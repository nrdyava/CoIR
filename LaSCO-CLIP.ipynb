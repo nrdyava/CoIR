{
 "cells": [
  {
   "cell_type": "code",
   "execution_count": 1,
   "id": "9a24ae1a-7828-48eb-90d8-29b546cfcc50",
   "metadata": {},
   "outputs": [
    {
     "name": "stderr",
     "output_type": "stream",
     "text": [
      "/home/nrdyava/miniconda3/envs/coir-clip2/lib/python3.8/site-packages/tqdm/auto.py:21: TqdmWarning: IProgress not found. Please update jupyter and ipywidgets. See https://ipywidgets.readthedocs.io/en/stable/user_install.html\n",
      "  from .autonotebook import tqdm as notebook_tqdm\n"
     ]
    }
   ],
   "source": [
    "import torch\n",
    "import torch.nn.functional as F\n",
    "from transformers import CLIPProcessor, CLIPModel\n",
    "from PIL import Image\n",
    "import requests\n",
    "from tqdm import tqdm\n",
    "import json\n",
    "import numpy as np\n",
    "import faiss  \n",
    "import os\n",
    "import pickle"
   ]
  },
  {
   "cell_type": "code",
   "execution_count": null,
   "id": "1b24432d-2461-4d4b-97fd-4dce0f6907e0",
   "metadata": {},
   "outputs": [],
   "source": []
  },
  {
   "cell_type": "code",
   "execution_count": 2,
   "id": "19d27a0b-54a3-4055-89f1-f14fe748f998",
   "metadata": {},
   "outputs": [],
   "source": [
    "#CLIP\n",
    "model = CLIPModel.from_pretrained(\"openai/clip-vit-base-patch32\").to(\"cuda\")\n",
    "processor = CLIPProcessor.from_pretrained(\"openai/clip-vit-base-patch32\")"
   ]
  },
  {
   "cell_type": "code",
   "execution_count": 3,
   "id": "72635949-28a5-4f88-9239-a3181ba45520",
   "metadata": {},
   "outputs": [],
   "source": [
    "#FAISS\n",
    "d = 512\n",
    "index = faiss.IndexFlatIP(d)"
   ]
  },
  {
   "cell_type": "code",
   "execution_count": null,
   "id": "732e40ca-5255-4215-ae2c-fa07f6232376",
   "metadata": {},
   "outputs": [],
   "source": []
  },
  {
   "cell_type": "code",
   "execution_count": 4,
   "id": "c657c9b4-e4d8-4d0d-9978-d04def8fb99d",
   "metadata": {},
   "outputs": [],
   "source": [
    "with open('datasets/LaSCo/lasco_val.json', 'r') as file:\n",
    "    lasco_val = json.load(file)\n",
    "with open('datasets/LaSCo/lasco_val_corpus.json', 'r') as file:\n",
    "    lasco_val_corpus = json.load(file)"
   ]
  },
  {
   "cell_type": "code",
   "execution_count": 5,
   "id": "49d654f7-1387-4bf0-8089-67f774d936d5",
   "metadata": {},
   "outputs": [
    {
     "data": {
      "text/plain": [
       "30037"
      ]
     },
     "execution_count": 5,
     "metadata": {},
     "output_type": "execute_result"
    }
   ],
   "source": [
    "len(lasco_val)"
   ]
  },
  {
   "cell_type": "code",
   "execution_count": 6,
   "id": "8cab45d2-e8aa-42cc-bc1c-1ae23f9bd006",
   "metadata": {},
   "outputs": [
    {
     "data": {
      "text/plain": [
       "39826"
      ]
     },
     "execution_count": 6,
     "metadata": {},
     "output_type": "execute_result"
    }
   ],
   "source": [
    "len(lasco_val_corpus)"
   ]
  },
  {
   "cell_type": "code",
   "execution_count": null,
   "id": "da316784-d22f-421e-8efe-d276cf6bc36c",
   "metadata": {},
   "outputs": [],
   "source": []
  },
  {
   "cell_type": "code",
   "execution_count": 7,
   "id": "16566db8-1ff1-43c4-9539-1c45b660b577",
   "metadata": {},
   "outputs": [],
   "source": [
    "faiss_index_2_image_map = {}"
   ]
  },
  {
   "cell_type": "code",
   "execution_count": 8,
   "id": "e40ffae1-3581-4b9f-bf75-53a0d6479f65",
   "metadata": {},
   "outputs": [
    {
     "name": "stderr",
     "output_type": "stream",
     "text": [
      "100%|██████████████████████████████████████████████████████████████████████████████████████████████████████████████████████████████████████████████████████| 39826/39826 [14:17<00:00, 46.46it/s]\n"
     ]
    }
   ],
   "source": [
    "#Indexing Valiudation Corpus\n",
    "fi = 0\n",
    "for record in tqdm(lasco_val_corpus):\n",
    "    faiss_index_2_image_map.update({fi: record['id']})\n",
    "    img_name = record['path'].split('/')[-1]\n",
    "    img_path = os.path.join('datasets', 'LaSCo', 'coco', 'val2014', img_name)\n",
    "    image = Image.open(img_path).convert(\"RGB\")\n",
    "    inputs = processor(text=[''], images=[image], return_tensors=\"pt\", padding=True).to(\"cuda\")\n",
    "    with torch.no_grad():\n",
    "        outputs = model(**inputs)\n",
    "        image_embeds = outputs.image_embeds\n",
    "        text_embeds = outputs.text_embeds\n",
    "    index.add(image_embeds.detach().cpu().numpy())\n",
    "    fi+=1"
   ]
  },
  {
   "cell_type": "code",
   "execution_count": null,
   "id": "3b941015-59de-4b46-ac9b-f7fa207cfdf8",
   "metadata": {},
   "outputs": [],
   "source": []
  },
  {
   "cell_type": "code",
   "execution_count": 9,
   "id": "dfc66d58-f1a6-426a-80db-f536506266a6",
   "metadata": {},
   "outputs": [],
   "source": [
    "## Write index and dictionary to to disk\n",
    "with open('lasco_val_faiss_index_2_image_map.json', 'w') as file:\n",
    "    json.dump(faiss_index_2_image_map, file)\n",
    "\n",
    "faiss.write_index(index, 'lasco_val_faiss_index.bin')"
   ]
  },
  {
   "cell_type": "code",
   "execution_count": null,
   "id": "6745a588-4fb6-4dcf-aa7e-e9ae7f5ad2a5",
   "metadata": {},
   "outputs": [],
   "source": []
  },
  {
   "cell_type": "code",
   "execution_count": 28,
   "id": "21f749c5-b5d4-4c88-98e3-9c810b0b41be",
   "metadata": {},
   "outputs": [],
   "source": [
    "\"\"\"\n",
    "## Read index and dictionary to to disk\n",
    "with open('lasco_val_faiss_index_2_image_map.json', 'r') as file:\n",
    "    faiss_index_2_image_map = json.load(file)\n",
    "\"\"\"\n",
    "index = faiss.read_index('lasco_val_faiss_index.bin')\n"
   ]
  },
  {
   "cell_type": "code",
   "execution_count": null,
   "id": "8c42e00b-4a6b-4ed8-81ba-3e528aa2b250",
   "metadata": {},
   "outputs": [],
   "source": []
  },
  {
   "cell_type": "code",
   "execution_count": null,
   "id": "0c7892ec-5e57-4ffd-becb-2ace0498ef7e",
   "metadata": {},
   "outputs": [],
   "source": []
  },
  {
   "cell_type": "code",
   "execution_count": 10,
   "id": "62097fbd-d956-415d-94fd-2059cc3c9978",
   "metadata": {},
   "outputs": [],
   "source": [
    "lasco_val_evaluation_results = []"
   ]
  },
  {
   "cell_type": "code",
   "execution_count": 33,
   "id": "c57b0597-c3b3-4dad-860b-a85dd378bebf",
   "metadata": {},
   "outputs": [
    {
     "name": "stderr",
     "output_type": "stream",
     "text": [
      "  0%|▎                                                                                                                                                        | 66/30037 [00:04<31:58, 15.62it/s]\n",
      "\n",
      "KeyboardInterrupt\n",
      "\n"
     ]
    }
   ],
   "source": [
    "#cntr = 0\n",
    "## Evaluation Loop\n",
    "for record in tqdm(lasco_val):\n",
    "    qid = record['qid']\n",
    "    query_image = record['query-image'][1].split('/')[-1]\n",
    "    target_image = record['target-image'][1].split('/')[-1]\n",
    "    mod_text = record['query-text']\n",
    "\n",
    "    query_image_name = record['query-image'][1].split('/')[-1]\n",
    "    query_image_path = os.path.join('datasets', 'LaSCo', 'coco', 'val2014', query_image_name)\n",
    "    target_image_name = record['target-image'][1].split('/')[-1]\n",
    "    target_image_path = os.path.join('datasets', 'LaSCo', 'coco', 'val2014', target_image_name)\n",
    "    mod_text = record['query-text']\n",
    "\n",
    "    query_image = Image.open(query_image_path).convert(\"RGB\")\n",
    "    target_image = Image.open(target_image_path).convert(\"RGB\")\n",
    "\n",
    "    inputs = processor(text=[mod_text, ''], images=[query_image, target_image], return_tensors=\"pt\", padding=True).to(\"cuda\")\n",
    "\n",
    "    with torch.no_grad():\n",
    "        outputs = model(**inputs)\n",
    "        image_embeds = outputs.image_embeds\n",
    "        text_embeds = outputs.text_embeds\n",
    "\n",
    "    target_hat = (image_embeds[0] + text_embeds[0]).unsqueeze(0)\n",
    "    target_hat = F.normalize(target_hat, p=2.0, dim = 1)\n",
    "    target_hat = target_hat.detach().cpu().numpy()\n",
    "\n",
    "    _, indices = index.search(target_hat, k=50)\n",
    "    indices = list(map(lambda x: faiss_index_2_image_map[x], list(indices[0, :])))\n",
    "\n",
    "    #print(image_embeds[0])\n",
    "    #print(text_embeds[0])\n",
    "    #print(target_hat[0])\n",
    "    #print(\"----------------------------------------------------------------------------------------------------------------\")\n",
    "\n",
    "    #if cntr == 20:\n",
    "    #    break\n",
    "\n",
    "    \n",
    "    lasco_val_evaluation_results.append(\n",
    "        {\n",
    "            'qid': qid,\n",
    "            'target_img_id': record['target-image'][0],\n",
    "            'top_50_retrieved': indices\n",
    "        }\n",
    "    )"
   ]
  },
  {
   "cell_type": "code",
   "execution_count": 12,
   "id": "e324eac7-7af4-45df-b118-c8c8876edb28",
   "metadata": {},
   "outputs": [],
   "source": [
    "## Save predictions to file\n",
    "with open('lasco_val_retrieved_candidates.pkl', 'wb') as file:\n",
    "    pickle.dump(lasco_val_evaluation_results, file)"
   ]
  },
  {
   "cell_type": "code",
   "execution_count": 13,
   "id": "430ada6e-fc71-4fd9-8eea-d784ab644633",
   "metadata": {
    "scrolled": true
   },
   "outputs": [
    {
     "data": {
      "text/plain": [
       "[{'qid': 318114001,\n",
       "  'target_img_id': 306889,\n",
       "  'top_50_retrieved': [318114,\n",
       "   488645,\n",
       "   221911,\n",
       "   231527,\n",
       "   237277,\n",
       "   304984,\n",
       "   123511,\n",
       "   550862,\n",
       "   438999,\n",
       "   434148,\n",
       "   13145,\n",
       "   135460,\n",
       "   136772,\n",
       "   581829,\n",
       "   114871,\n",
       "   467457,\n",
       "   311041,\n",
       "   309279,\n",
       "   512912,\n",
       "   320972,\n",
       "   491062,\n",
       "   301912,\n",
       "   21397,\n",
       "   119414,\n",
       "   235575,\n",
       "   248912,\n",
       "   351609,\n",
       "   577868,\n",
       "   507318,\n",
       "   168898,\n",
       "   549887,\n",
       "   223384,\n",
       "   529966,\n",
       "   100132,\n",
       "   521540,\n",
       "   402783,\n",
       "   577451,\n",
       "   463555,\n",
       "   569103,\n",
       "   136911,\n",
       "   124135,\n",
       "   22090,\n",
       "   405569,\n",
       "   192457,\n",
       "   158333,\n",
       "   234934,\n",
       "   37958,\n",
       "   28864,\n",
       "   75888,\n",
       "   96327]}]"
      ]
     },
     "execution_count": 13,
     "metadata": {},
     "output_type": "execute_result"
    }
   ],
   "source": [
    "lasco_val_evaluation_results[:1]"
   ]
  },
  {
   "cell_type": "code",
   "execution_count": 14,
   "id": "e05f8405-0589-46c6-97d8-e7cb5d32c37c",
   "metadata": {},
   "outputs": [
    {
     "data": {
      "text/plain": [
       "30037"
      ]
     },
     "execution_count": 14,
     "metadata": {},
     "output_type": "execute_result"
    }
   ],
   "source": [
    "len(lasco_val_evaluation_results)"
   ]
  },
  {
   "cell_type": "code",
   "execution_count": null,
   "id": "9b533203-d836-4ed0-87ee-4f567c7a99ff",
   "metadata": {},
   "outputs": [],
   "source": []
  },
  {
   "cell_type": "code",
   "execution_count": 15,
   "id": "3cf942d7-3a85-434d-ae94-8f0d58dc4743",
   "metadata": {},
   "outputs": [],
   "source": [
    "recall_counts = [0, 0, 0, 0]"
   ]
  },
  {
   "cell_type": "code",
   "execution_count": 17,
   "id": "28986611-b4a2-4f18-982c-37299e66d058",
   "metadata": {},
   "outputs": [],
   "source": [
    "for record in lasco_val_evaluation_results:\n",
    "    #items = [faiss_index_2_image_map[i] for i in record['top_50_retrieved']]\n",
    "    try:\n",
    "        index = record['top_50_retrieved'].index(record['target_img_id'])\n",
    "        if index < 1:\n",
    "            recall_counts[0]+=1\n",
    "        if index < 5:\n",
    "            recall_counts[1]+=1\n",
    "        if index < 10:\n",
    "            recall_counts[2]+=1\n",
    "        if index < 50:\n",
    "            recall_counts[3]+=1\n",
    "    except:\n",
    "        continue"
   ]
  },
  {
   "cell_type": "code",
   "execution_count": null,
   "id": "f42c32ba-7ae6-4f1a-9bc7-43a143995619",
   "metadata": {},
   "outputs": [],
   "source": []
  },
  {
   "cell_type": "code",
   "execution_count": 18,
   "id": "a9702dd7-ae16-4eb6-bdfc-0871fbf9a373",
   "metadata": {},
   "outputs": [
    {
     "data": {
      "text/plain": [
       "[1, 1605, 2623, 6736]"
      ]
     },
     "execution_count": 18,
     "metadata": {},
     "output_type": "execute_result"
    }
   ],
   "source": [
    "recall_counts"
   ]
  },
  {
   "cell_type": "code",
   "execution_count": null,
   "id": "47607449-c0ed-4b86-a9cb-14442a03d548",
   "metadata": {},
   "outputs": [],
   "source": []
  },
  {
   "cell_type": "code",
   "execution_count": 19,
   "id": "a98336bd-8194-4be3-97a8-874987617c13",
   "metadata": {},
   "outputs": [
    {
     "name": "stdout",
     "output_type": "stream",
     "text": [
      "Average recall Top-1 = 0.0033292272863468387 %\n",
      "Average recall Top-5 = 5.343409794586677 %\n",
      "Average recall Top-10 = 8.732563172087758 %\n",
      "Average recall Top-50 = 22.425675000832307 %\n"
     ]
    }
   ],
   "source": [
    "print(\"Average recall Top-1 = {} %\".format(100*recall_counts[0]/len(lasco_val_evaluation_results)))\n",
    "print(\"Average recall Top-5 = {} %\".format(100*recall_counts[1]/len(lasco_val_evaluation_results)))\n",
    "print(\"Average recall Top-10 = {} %\".format(100*recall_counts[2]/len(lasco_val_evaluation_results)))\n",
    "print(\"Average recall Top-50 = {} %\".format(100*recall_counts[3]/len(lasco_val_evaluation_results)))"
   ]
  }
 ],
 "metadata": {
  "kernelspec": {
   "display_name": "Python 3 (ipykernel)",
   "language": "python",
   "name": "python3"
  },
  "language_info": {
   "codemirror_mode": {
    "name": "ipython",
    "version": 3
   },
   "file_extension": ".py",
   "mimetype": "text/x-python",
   "name": "python",
   "nbconvert_exporter": "python",
   "pygments_lexer": "ipython3",
   "version": "3.8.19"
  }
 },
 "nbformat": 4,
 "nbformat_minor": 5
}
