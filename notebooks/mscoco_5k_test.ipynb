{
 "cells": [
  {
   "cell_type": "code",
   "execution_count": 20,
   "id": "45ea44ef-9878-41c3-a6b2-6bb1ae3586a0",
   "metadata": {},
   "outputs": [],
   "source": [
    "import os \n",
    "import json\n",
    "import pandas as pd\n",
    "import ast"
   ]
  },
  {
   "cell_type": "code",
   "execution_count": null,
   "id": "29dcfe2b-86a8-4bac-87c8-e361da5e1380",
   "metadata": {},
   "outputs": [],
   "source": []
  },
  {
   "cell_type": "code",
   "execution_count": null,
   "id": "e3a03d43-bf98-4c1c-8d75-ff0767531ca2",
   "metadata": {},
   "outputs": [],
   "source": []
  },
  {
   "cell_type": "code",
   "execution_count": 2,
   "id": "588f7cc4-f3bd-4d1b-bcea-ec7f528355e1",
   "metadata": {},
   "outputs": [],
   "source": [
    "images = os.listdir('/proj/vondrick4/naveen/coir-data/MSCOCO_5k/images_mscoco_2014_5k_test')"
   ]
  },
  {
   "cell_type": "code",
   "execution_count": 3,
   "id": "d8832ef9-f704-47a2-8ee2-ddb04618ff56",
   "metadata": {},
   "outputs": [
    {
     "data": {
      "text/plain": [
       "5000"
      ]
     },
     "execution_count": 3,
     "metadata": {},
     "output_type": "execute_result"
    }
   ],
   "source": [
    "len(images)"
   ]
  },
  {
   "cell_type": "code",
   "execution_count": null,
   "id": "cd362f7f-c99a-4202-ae86-fa2646f1a1d0",
   "metadata": {},
   "outputs": [],
   "source": []
  },
  {
   "cell_type": "code",
   "execution_count": 4,
   "id": "d765a390-8b66-4477-8906-18bc2e94fe30",
   "metadata": {},
   "outputs": [],
   "source": [
    "df = pd.read_csv('/proj/vondrick4/naveen/coir-data/MSCOCO_5k/test_5k_mscoco_2014.csv')"
   ]
  },
  {
   "cell_type": "code",
   "execution_count": null,
   "id": "2aca53e8-fd7b-4edf-8106-646d34a8c756",
   "metadata": {},
   "outputs": [],
   "source": []
  },
  {
   "cell_type": "code",
   "execution_count": 5,
   "id": "ad0c4531-617e-458e-924b-89e2a717e30b",
   "metadata": {},
   "outputs": [
    {
     "data": {
      "text/html": [
       "<div>\n",
       "<style scoped>\n",
       "    .dataframe tbody tr th:only-of-type {\n",
       "        vertical-align: middle;\n",
       "    }\n",
       "\n",
       "    .dataframe tbody tr th {\n",
       "        vertical-align: top;\n",
       "    }\n",
       "\n",
       "    .dataframe thead th {\n",
       "        text-align: right;\n",
       "    }\n",
       "</style>\n",
       "<table border=\"1\" class=\"dataframe\">\n",
       "  <thead>\n",
       "    <tr style=\"text-align: right;\">\n",
       "      <th></th>\n",
       "      <th>filepath</th>\n",
       "      <th>sentids</th>\n",
       "      <th>filename</th>\n",
       "      <th>imgid</th>\n",
       "      <th>split</th>\n",
       "      <th>cocoid</th>\n",
       "      <th>tokens</th>\n",
       "      <th>raw</th>\n",
       "      <th>sentid</th>\n",
       "    </tr>\n",
       "  </thead>\n",
       "  <tbody>\n",
       "    <tr>\n",
       "      <th>0</th>\n",
       "      <td>val2014</td>\n",
       "      <td>[770337, 771687, 772707, 776154, 781998]</td>\n",
       "      <td>COCO_val2014_000000391895.jpg</td>\n",
       "      <td>[0, 0, 0, 0, 0]</td>\n",
       "      <td>test</td>\n",
       "      <td>391895</td>\n",
       "      <td>[[\"a\", \"man\", \"with\", \"a\", \"red\", \"helmet\", \"o...</td>\n",
       "      <td>[\"A man with a red helmet on a small moped on ...</td>\n",
       "      <td>[770337, 771687, 772707, 776154, 781998]</td>\n",
       "    </tr>\n",
       "    <tr>\n",
       "      <th>1</th>\n",
       "      <td>val2014</td>\n",
       "      <td>[152106, 158205, 160512, 161592, 162963]</td>\n",
       "      <td>COCO_val2014_000000060623.jpg</td>\n",
       "      <td>[7, 7, 7, 7, 7]</td>\n",
       "      <td>test</td>\n",
       "      <td>60623</td>\n",
       "      <td>[[\"a\", \"young\", \"girl\", \"inhales\", \"with\", \"th...</td>\n",
       "      <td>[\"A young girl inhales with the intent of blow...</td>\n",
       "      <td>[152106, 158205, 160512, 161592, 162963]</td>\n",
       "    </tr>\n",
       "    <tr>\n",
       "      <th>2</th>\n",
       "      <td>val2014</td>\n",
       "      <td>[580656, 581820, 583905, 584211, 590199]</td>\n",
       "      <td>COCO_val2014_000000483108.jpg</td>\n",
       "      <td>[14, 14, 14, 14, 14]</td>\n",
       "      <td>test</td>\n",
       "      <td>483108</td>\n",
       "      <td>[[\"a\", \"man\", \"on\", \"a\", \"bicycle\", \"riding\", ...</td>\n",
       "      <td>[\"A man on a bicycle riding next to a train\", ...</td>\n",
       "      <td>[580656, 581820, 583905, 584211, 590199]</td>\n",
       "    </tr>\n",
       "    <tr>\n",
       "      <th>3</th>\n",
       "      <td>val2014</td>\n",
       "      <td>[376534, 380344, 381145, 382492, 383869]</td>\n",
       "      <td>COCO_val2014_000000384213.jpg</td>\n",
       "      <td>[18, 18, 18, 18, 18]</td>\n",
       "      <td>test</td>\n",
       "      <td>384213</td>\n",
       "      <td>[[\"a\", \"kitchen\", \"is\", \"shown\", \"with\", \"a\", ...</td>\n",
       "      <td>[\"A kitchen is shown with a variety of items o...</td>\n",
       "      <td>[376534, 380344, 381145, 382492, 383869]</td>\n",
       "    </tr>\n",
       "    <tr>\n",
       "      <th>4</th>\n",
       "      <td>val2014</td>\n",
       "      <td>[478769, 480356, 480668, 483305, 485087]</td>\n",
       "      <td>COCO_val2014_000000386164.jpg</td>\n",
       "      <td>[23, 23, 23, 23, 23]</td>\n",
       "      <td>test</td>\n",
       "      <td>386164</td>\n",
       "      <td>[[\"a\", \"wooden\", \"ball\", \"on\", \"top\", \"of\", \"a...</td>\n",
       "      <td>[\"A wooden ball on top of a wooden stick.\", \"T...</td>\n",
       "      <td>[478769, 480356, 480668, 483305, 485087]</td>\n",
       "    </tr>\n",
       "  </tbody>\n",
       "</table>\n",
       "</div>"
      ],
      "text/plain": [
       "  filepath                                   sentids  \\\n",
       "0  val2014  [770337, 771687, 772707, 776154, 781998]   \n",
       "1  val2014  [152106, 158205, 160512, 161592, 162963]   \n",
       "2  val2014  [580656, 581820, 583905, 584211, 590199]   \n",
       "3  val2014  [376534, 380344, 381145, 382492, 383869]   \n",
       "4  val2014  [478769, 480356, 480668, 483305, 485087]   \n",
       "\n",
       "                        filename                 imgid split  cocoid  \\\n",
       "0  COCO_val2014_000000391895.jpg       [0, 0, 0, 0, 0]  test  391895   \n",
       "1  COCO_val2014_000000060623.jpg       [7, 7, 7, 7, 7]  test   60623   \n",
       "2  COCO_val2014_000000483108.jpg  [14, 14, 14, 14, 14]  test  483108   \n",
       "3  COCO_val2014_000000384213.jpg  [18, 18, 18, 18, 18]  test  384213   \n",
       "4  COCO_val2014_000000386164.jpg  [23, 23, 23, 23, 23]  test  386164   \n",
       "\n",
       "                                              tokens  \\\n",
       "0  [[\"a\", \"man\", \"with\", \"a\", \"red\", \"helmet\", \"o...   \n",
       "1  [[\"a\", \"young\", \"girl\", \"inhales\", \"with\", \"th...   \n",
       "2  [[\"a\", \"man\", \"on\", \"a\", \"bicycle\", \"riding\", ...   \n",
       "3  [[\"a\", \"kitchen\", \"is\", \"shown\", \"with\", \"a\", ...   \n",
       "4  [[\"a\", \"wooden\", \"ball\", \"on\", \"top\", \"of\", \"a...   \n",
       "\n",
       "                                                 raw  \\\n",
       "0  [\"A man with a red helmet on a small moped on ...   \n",
       "1  [\"A young girl inhales with the intent of blow...   \n",
       "2  [\"A man on a bicycle riding next to a train\", ...   \n",
       "3  [\"A kitchen is shown with a variety of items o...   \n",
       "4  [\"A wooden ball on top of a wooden stick.\", \"T...   \n",
       "\n",
       "                                     sentid  \n",
       "0  [770337, 771687, 772707, 776154, 781998]  \n",
       "1  [152106, 158205, 160512, 161592, 162963]  \n",
       "2  [580656, 581820, 583905, 584211, 590199]  \n",
       "3  [376534, 380344, 381145, 382492, 383869]  \n",
       "4  [478769, 480356, 480668, 483305, 485087]  "
      ]
     },
     "execution_count": 5,
     "metadata": {},
     "output_type": "execute_result"
    }
   ],
   "source": [
    "df.head()"
   ]
  },
  {
   "cell_type": "code",
   "execution_count": null,
   "id": "e4b47f21-fb6b-4416-928e-47a3622638bb",
   "metadata": {},
   "outputs": [],
   "source": []
  },
  {
   "cell_type": "code",
   "execution_count": null,
   "id": "bc0f4eb7-4397-43d1-9403-4043861d842d",
   "metadata": {},
   "outputs": [],
   "source": []
  },
  {
   "cell_type": "code",
   "execution_count": 27,
   "id": "b5bee76f-2b72-4594-8af2-2526cb21262a",
   "metadata": {},
   "outputs": [],
   "source": []
  },
  {
   "cell_type": "code",
   "execution_count": 28,
   "id": "f8070799-4aba-4d96-be28-fda5ee523a24",
   "metadata": {},
   "outputs": [],
   "source": [
    "id_ = 0\n",
    "processed_data = []\n",
    "\n",
    "for index, row in df.iterrows():\n",
    "    temp = {}\n",
    "    temp['id'] = id_\n",
    "    id_ += 1\n",
    "\n",
    "    temp['filename'] = row['filename']\n",
    "    temp['cocoid'] = row['cocoid']\n",
    "    temp['raw_text'] = ast.literal_eval(row['raw'])\n",
    "    temp['sentids'] = ast.literal_eval(row['sentids'])\n",
    "    processed_data.append(temp)"
   ]
  },
  {
   "cell_type": "code",
   "execution_count": null,
   "id": "98611e3a-bac9-4513-a6bf-fc88d502bef8",
   "metadata": {},
   "outputs": [],
   "source": []
  },
  {
   "cell_type": "code",
   "execution_count": 32,
   "id": "8b22a233-9345-48c4-a8d0-70a2ef515734",
   "metadata": {
    "scrolled": true
   },
   "outputs": [],
   "source": [
    "with open('/proj/vondrick4/naveen/coir-data/MSCOCO_5k/test_5k_mscoco_2014_processed.csv', 'w') as json_file:\n",
    "    json.dump(processed_data, json_file, indent=4)"
   ]
  },
  {
   "cell_type": "code",
   "execution_count": null,
   "id": "4ee72c45-ca5a-42ce-b53d-448c45c91f51",
   "metadata": {},
   "outputs": [],
   "source": []
  },
  {
   "cell_type": "code",
   "execution_count": null,
   "id": "a9b1cf11-ed23-4fe6-a338-040627d96838",
   "metadata": {},
   "outputs": [],
   "source": []
  },
  {
   "cell_type": "code",
   "execution_count": 42,
   "id": "2d80b0d5-d7b2-4e77-a14f-3de1e63d89cf",
   "metadata": {},
   "outputs": [],
   "source": [
    "id_ = 0\n",
    "retrieval_data = []\n",
    "\n",
    "for sample in processed_data:\n",
    "    temp = {}\n",
    "    temp['id'] = id_\n",
    "    id_ += 1\n",
    "\n",
    "    temp['image-id'] = sample['cocoid']\n",
    "    temp['image-path'] = os.path.join('images_mscoco_2014_5k_test', sample['filename'])\n",
    "\n",
    "    temp['text-id'] = sample['sentids'][0]\n",
    "    temp['raw-text'] = sample['raw_text'][0]\n",
    "\n",
    "    retrieval_data.append(temp)"
   ]
  },
  {
   "cell_type": "code",
   "execution_count": null,
   "id": "6c2aa8fd-5d1e-44dd-9a6f-77b5ee352247",
   "metadata": {},
   "outputs": [],
   "source": []
  },
  {
   "cell_type": "code",
   "execution_count": 45,
   "id": "3e5a5792-2a24-41dd-bf68-9b2a7bc8cca8",
   "metadata": {},
   "outputs": [],
   "source": [
    "with open('/proj/vondrick4/naveen/coir-data/MSCOCO_5k/test_5k_mscoco_2014_retrieval_data.csv', 'w') as json_file:\n",
    "    json.dump(retrieval_data, json_file, indent=4)"
   ]
  },
  {
   "cell_type": "code",
   "execution_count": null,
   "id": "448e9726-f9dd-49e6-8c65-a75336e6d919",
   "metadata": {},
   "outputs": [],
   "source": []
  },
  {
   "cell_type": "code",
   "execution_count": null,
   "id": "7df821b5-cc17-4a1c-a357-5a71b17e993b",
   "metadata": {},
   "outputs": [],
   "source": []
  },
  {
   "cell_type": "code",
   "execution_count": null,
   "id": "8f05d26a-b8c3-423c-b0fc-577c88b143f0",
   "metadata": {},
   "outputs": [],
   "source": []
  },
  {
   "cell_type": "code",
   "execution_count": null,
   "id": "def66d48-3348-4236-b987-88b01010b462",
   "metadata": {},
   "outputs": [],
   "source": []
  },
  {
   "cell_type": "code",
   "execution_count": null,
   "id": "44efdd00-8d17-4c85-be62-ac7303149c6c",
   "metadata": {},
   "outputs": [],
   "source": []
  },
  {
   "cell_type": "code",
   "execution_count": null,
   "id": "86629b72-db1b-481d-8b7c-46af512ca874",
   "metadata": {},
   "outputs": [],
   "source": []
  },
  {
   "cell_type": "code",
   "execution_count": null,
   "id": "7ed71a3a-c6d8-40b5-9b7d-bf7be0dce161",
   "metadata": {},
   "outputs": [],
   "source": []
  },
  {
   "cell_type": "code",
   "execution_count": null,
   "id": "90ea3031-af9a-4d65-b045-5ccfe54f59d2",
   "metadata": {},
   "outputs": [],
   "source": []
  },
  {
   "cell_type": "code",
   "execution_count": null,
   "id": "801b89bf-1026-47e6-a640-38bc75602320",
   "metadata": {},
   "outputs": [],
   "source": []
  },
  {
   "cell_type": "code",
   "execution_count": null,
   "id": "8615d7c1-8309-4b7d-b8a3-2d8b9ee39184",
   "metadata": {},
   "outputs": [],
   "source": []
  },
  {
   "cell_type": "code",
   "execution_count": null,
   "id": "1c5a2185-ab9f-48ca-95c2-7fe42018c460",
   "metadata": {},
   "outputs": [],
   "source": []
  },
  {
   "cell_type": "code",
   "execution_count": null,
   "id": "835f44c8-5f07-4795-859a-ed709627b349",
   "metadata": {},
   "outputs": [],
   "source": []
  }
 ],
 "metadata": {
  "kernelspec": {
   "display_name": "Python 3 (ipykernel)",
   "language": "python",
   "name": "python3"
  },
  "language_info": {
   "codemirror_mode": {
    "name": "ipython",
    "version": 3
   },
   "file_extension": ".py",
   "mimetype": "text/x-python",
   "name": "python",
   "nbconvert_exporter": "python",
   "pygments_lexer": "ipython3",
   "version": "3.10.15"
  }
 },
 "nbformat": 4,
 "nbformat_minor": 5
}
