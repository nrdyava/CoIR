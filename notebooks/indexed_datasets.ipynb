{
 "cells": [
  {
   "cell_type": "code",
   "execution_count": 1,
   "id": "d83e1260-ceb7-41c4-addb-3756518806b2",
   "metadata": {},
   "outputs": [],
   "source": [
    "import os\n",
    "import json"
   ]
  },
  {
   "cell_type": "markdown",
   "id": "876ac8a9-a028-414c-b419-f3dd06800098",
   "metadata": {},
   "source": [
    "## lasco train corpus"
   ]
  },
  {
   "cell_type": "code",
   "execution_count": 18,
   "id": "fea54e0e-e49e-49de-95a2-cd5e4bc08e32",
   "metadata": {},
   "outputs": [],
   "source": [
    "train_corpus = json.load(open('/local/vondrick/naveen/coir-data/LaSCo/lasco_train_corpus.json', 'r'))"
   ]
  },
  {
   "cell_type": "code",
   "execution_count": 19,
   "id": "23cb87da-3947-489a-a933-88e04c703e78",
   "metadata": {},
   "outputs": [
    {
     "data": {
      "text/plain": [
       "[{'image-id': 158307,\n",
       "  'image-path': 'coco/train2014/COCO_train2014_000000158307.jpg'},\n",
       " {'image-id': 89462,\n",
       "  'image-path': 'coco/train2014/COCO_train2014_000000089462.jpg'}]"
      ]
     },
     "execution_count": 19,
     "metadata": {},
     "output_type": "execute_result"
    }
   ],
   "source": [
    "train_corpus_processed = list(\n",
    "    map(\n",
    "        lambda x: {\n",
    "            'image-id': int(x), \n",
    "            'image-path': os.path.join('coco', train_corpus[x])\n",
    "        },\n",
    "        train_corpus\n",
    "    )\n",
    ")\n",
    "train_corpus_processed[:2]"
   ]
  },
  {
   "cell_type": "code",
   "execution_count": 20,
   "id": "e0b8a75b-ef1c-4a2c-8d7a-a50e00c4c0df",
   "metadata": {},
   "outputs": [],
   "source": [
    "with open(\"/local/vondrick/naveen/coir-data/LaSCo/metadata/lasco_train_corpus.json\", \"w\") as json_file:\n",
    "    json.dump(train_corpus_processed, json_file, indent=4)"
   ]
  },
  {
   "cell_type": "markdown",
   "id": "27eb7b42-95da-4043-aee3-0838796099cd",
   "metadata": {},
   "source": [
    "## lasco val corpus"
   ]
  },
  {
   "cell_type": "code",
   "execution_count": 21,
   "id": "b79e889f-0202-47c9-9bea-ab1d0bcd7b82",
   "metadata": {},
   "outputs": [],
   "source": [
    "val_corpus = json.load(open('/local/vondrick/naveen/coir-data/LaSCo/lasco_val_corpus.json', 'r'))"
   ]
  },
  {
   "cell_type": "code",
   "execution_count": 22,
   "id": "93ad6f8d-1ff1-41a5-8047-c9a43fa4b8d9",
   "metadata": {},
   "outputs": [
    {
     "data": {
      "text/plain": [
       "[{'image-id': 42, 'image-path': 'coco/val2014/COCO_val2014_000000000042.jpg'},\n",
       " {'image-id': 73, 'image-path': 'coco/val2014/COCO_val2014_000000000073.jpg'}]"
      ]
     },
     "execution_count": 22,
     "metadata": {},
     "output_type": "execute_result"
    }
   ],
   "source": [
    "val_corpus_processed = list(\n",
    "    map(\n",
    "        lambda x: {\n",
    "            'image-id': x['id'], \n",
    "            'image-path': os.path.join('coco', 'val2014', x['path'].split('/')[-1])\n",
    "        },\n",
    "        val_corpus\n",
    "    )\n",
    ")\n",
    "val_corpus_processed[:2]"
   ]
  },
  {
   "cell_type": "code",
   "execution_count": 23,
   "id": "804f8c76-626f-4414-a11d-6e26dfd667e5",
   "metadata": {},
   "outputs": [],
   "source": [
    "with open(\"/local/vondrick/naveen/coir-data/LaSCo/metadata/lasco_val_corpus.json\", \"w\") as json_file:\n",
    "    json.dump(val_corpus_processed, json_file, indent=4)"
   ]
  },
  {
   "cell_type": "markdown",
   "id": "5d76b74a-e6ed-41b6-84fc-73a85fc64eab",
   "metadata": {},
   "source": [
    "## lasco train"
   ]
  },
  {
   "cell_type": "code",
   "execution_count": 24,
   "id": "9355ad64-640c-4f6f-958a-bd0ea506423d",
   "metadata": {},
   "outputs": [],
   "source": [
    "lasco_train = json.load(open('/local/vondrick/naveen/coir-data/LaSCo/lasco_train.json', 'r'))"
   ]
  },
  {
   "cell_type": "code",
   "execution_count": 25,
   "id": "f90a4079-bb07-42b8-bbd5-ff023ef194d6",
   "metadata": {},
   "outputs": [
    {
     "data": {
      "text/plain": [
       "[{'qid': 158307013,\n",
       "  'query-image': [158307, 'train2014/COCO_train2014_000000158307.jpg'],\n",
       "  'query-text': 'Six people on the hill',\n",
       "  'target-image': [89462, 'train2014/COCO_train2014_000000089462.jpg']},\n",
       " {'qid': 472405000,\n",
       "  'query-image': [472405, 'train2014/COCO_train2014_000000472405.jpg'],\n",
       "  'query-text': 'There are no crates in this picture',\n",
       "  'target-image': [79224, 'train2014/COCO_train2014_000000079224.jpg']},\n",
       " {'qid': 472405002,\n",
       "  'query-image': [472405, 'train2014/COCO_train2014_000000472405.jpg'],\n",
       "  'query-text': 'Find fruit that is not sliced',\n",
       "  'target-image': [76899, 'train2014/COCO_train2014_000000076899.jpg']}]"
      ]
     },
     "execution_count": 25,
     "metadata": {},
     "output_type": "execute_result"
    }
   ],
   "source": [
    "lasco_train[:3]"
   ]
  },
  {
   "cell_type": "code",
   "execution_count": 26,
   "id": "58692b08-d10a-4285-80bb-2ef5ac37b5a1",
   "metadata": {},
   "outputs": [],
   "source": [
    "train_processed = list(\n",
    "    map(\n",
    "        lambda x: {\n",
    "            'query-image-id': x['query-image'][0],\n",
    "            'query-image-path': os.path.join('coco', x['query-image'][1]),\n",
    "            'target-image-id': x['target-image'][0],\n",
    "            'target-image-path': os.path.join('coco', x['target-image'][1]),\n",
    "            'query-text': x['query-text']\n",
    "        }, \n",
    "        lasco_train\n",
    "    )\n",
    ")"
   ]
  },
  {
   "cell_type": "code",
   "execution_count": 27,
   "id": "05be378a-e27c-4e50-8ae6-b6e60ddbd232",
   "metadata": {},
   "outputs": [
    {
     "data": {
      "text/plain": [
       "[{'query-image-id': 158307,\n",
       "  'query-image-path': 'coco/train2014/COCO_train2014_000000158307.jpg',\n",
       "  'target-image-id': 89462,\n",
       "  'target-image-path': 'coco/train2014/COCO_train2014_000000089462.jpg',\n",
       "  'query-text': 'Six people on the hill'},\n",
       " {'query-image-id': 472405,\n",
       "  'query-image-path': 'coco/train2014/COCO_train2014_000000472405.jpg',\n",
       "  'target-image-id': 79224,\n",
       "  'target-image-path': 'coco/train2014/COCO_train2014_000000079224.jpg',\n",
       "  'query-text': 'There are no crates in this picture'},\n",
       " {'query-image-id': 472405,\n",
       "  'query-image-path': 'coco/train2014/COCO_train2014_000000472405.jpg',\n",
       "  'target-image-id': 76899,\n",
       "  'target-image-path': 'coco/train2014/COCO_train2014_000000076899.jpg',\n",
       "  'query-text': 'Find fruit that is not sliced'}]"
      ]
     },
     "execution_count": 27,
     "metadata": {},
     "output_type": "execute_result"
    }
   ],
   "source": [
    "train_processed[:3]"
   ]
  },
  {
   "cell_type": "code",
   "execution_count": 28,
   "id": "b7fd6a48-34d2-4e89-a674-40d7626bfe24",
   "metadata": {},
   "outputs": [],
   "source": [
    "with open(\"/local/vondrick/naveen/coir-data/LaSCo/metadata/lasco_train.json\", \"w\") as json_file:\n",
    "    json.dump(train_processed, json_file, indent=4)"
   ]
  },
  {
   "cell_type": "markdown",
   "id": "6c532108-99ce-4369-b347-2d03d8708d33",
   "metadata": {},
   "source": [
    "## lasco val"
   ]
  },
  {
   "cell_type": "code",
   "execution_count": 29,
   "id": "2f154c34-0af2-4f55-963f-80c009ef862c",
   "metadata": {},
   "outputs": [],
   "source": [
    "lasco_val = json.load(open('/local/vondrick/naveen/coir-data/LaSCo/lasco_val.json', 'r'))"
   ]
  },
  {
   "cell_type": "code",
   "execution_count": 30,
   "id": "fb67b22c-4e45-4d58-aa50-1e1b88ea656c",
   "metadata": {},
   "outputs": [
    {
     "data": {
      "text/plain": [
       "[{'qid': 318114001,\n",
       "  'query-image': [318114, 'val2014/COCO_val2014_000000318114.jpg'],\n",
       "  'query-text': 'This food is not acidic',\n",
       "  'target-image': [306889, 'val2014/COCO_val2014_000000306889.jpg']},\n",
       " {'qid': 28714002,\n",
       "  'query-image': [28714, 'val2014/COCO_val2014_000000028714.jpg'],\n",
       "  'query-text': 'There should not be a graffiti on the wall',\n",
       "  'target-image': [426166, 'val2014/COCO_val2014_000000426166.jpg']},\n",
       " {'qid': 546721000,\n",
       "  'query-image': [546721, 'val2014/COCO_val2014_000000546721.jpg'],\n",
       "  'query-text': 'The boats are not docked',\n",
       "  'target-image': [513115, 'val2014/COCO_val2014_000000513115.jpg']}]"
      ]
     },
     "execution_count": 30,
     "metadata": {},
     "output_type": "execute_result"
    }
   ],
   "source": [
    "lasco_val[:3]"
   ]
  },
  {
   "cell_type": "code",
   "execution_count": 31,
   "id": "ed369161-c6dd-41b6-8eb0-a7574aaed1e7",
   "metadata": {},
   "outputs": [],
   "source": [
    "val_processed = list(\n",
    "    map(\n",
    "        lambda x: {\n",
    "            'query-image-id': x['query-image'][0],\n",
    "            'query-image-path': os.path.join('coco', x['query-image'][1]),\n",
    "            'target-image-id': x['target-image'][0],\n",
    "            'target-image-path': os.path.join('coco', x['target-image'][1]),\n",
    "            'query-text': x['query-text']\n",
    "        }, \n",
    "        lasco_val\n",
    "    )\n",
    ")"
   ]
  },
  {
   "cell_type": "code",
   "execution_count": 32,
   "id": "2b2f8785-94a8-4a31-b6ff-c67f1f900228",
   "metadata": {},
   "outputs": [
    {
     "data": {
      "text/plain": [
       "[{'query-image-id': 318114,\n",
       "  'query-image-path': 'coco/val2014/COCO_val2014_000000318114.jpg',\n",
       "  'target-image-id': 306889,\n",
       "  'target-image-path': 'coco/val2014/COCO_val2014_000000306889.jpg',\n",
       "  'query-text': 'This food is not acidic'},\n",
       " {'query-image-id': 28714,\n",
       "  'query-image-path': 'coco/val2014/COCO_val2014_000000028714.jpg',\n",
       "  'target-image-id': 426166,\n",
       "  'target-image-path': 'coco/val2014/COCO_val2014_000000426166.jpg',\n",
       "  'query-text': 'There should not be a graffiti on the wall'},\n",
       " {'query-image-id': 546721,\n",
       "  'query-image-path': 'coco/val2014/COCO_val2014_000000546721.jpg',\n",
       "  'target-image-id': 513115,\n",
       "  'target-image-path': 'coco/val2014/COCO_val2014_000000513115.jpg',\n",
       "  'query-text': 'The boats are not docked'}]"
      ]
     },
     "execution_count": 32,
     "metadata": {},
     "output_type": "execute_result"
    }
   ],
   "source": [
    "val_processed[:3]"
   ]
  },
  {
   "cell_type": "code",
   "execution_count": 33,
   "id": "eded4b98-1d8a-4c24-9f8b-6ed21b6a117b",
   "metadata": {},
   "outputs": [],
   "source": [
    "with open(\"/local/vondrick/naveen/coir-data/LaSCo/metadata/lasco_val.json\", \"w\") as json_file:\n",
    "    json.dump(val_processed, json_file, indent=4)"
   ]
  },
  {
   "cell_type": "code",
   "execution_count": null,
   "id": "db8750a3-f514-4d46-861e-30b5d4f3c650",
   "metadata": {},
   "outputs": [],
   "source": []
  },
  {
   "cell_type": "code",
   "execution_count": null,
   "id": "afcec511-6d5a-479e-960e-7fc64ecc47a5",
   "metadata": {},
   "outputs": [],
   "source": []
  },
  {
   "cell_type": "markdown",
   "id": "ec93d6fe-474e-40b3-874d-557f44b8568c",
   "metadata": {},
   "source": [
    "## Testing"
   ]
  },
  {
   "cell_type": "code",
   "execution_count": 41,
   "id": "c2fbb60b-4990-4f36-82a4-9ca5a341cded",
   "metadata": {},
   "outputs": [],
   "source": [
    "temp = json.load(open('/local/vondrick/naveen/coir-data/LaSCo/lasco_val_corpus.json', 'r'))"
   ]
  },
  {
   "cell_type": "code",
   "execution_count": 36,
   "id": "8b9b4d32-eb00-4da2-8180-9359c57cceec",
   "metadata": {},
   "outputs": [
    {
     "data": {
      "text/plain": [
       "359268"
      ]
     },
     "execution_count": 36,
     "metadata": {},
     "output_type": "execute_result"
    }
   ],
   "source": [
    "len(temp)"
   ]
  },
  {
   "cell_type": "code",
   "execution_count": 38,
   "id": "abef0e54-40d9-41e2-92a9-62fef0cc5611",
   "metadata": {},
   "outputs": [
    {
     "data": {
      "text/plain": [
       "30037"
      ]
     },
     "execution_count": 38,
     "metadata": {},
     "output_type": "execute_result"
    }
   ],
   "source": [
    "len(temp)"
   ]
  },
  {
   "cell_type": "code",
   "execution_count": 40,
   "id": "54e078ef-b0ec-49d6-aa00-f7bcaaf53749",
   "metadata": {},
   "outputs": [
    {
     "data": {
      "text/plain": [
       "81652"
      ]
     },
     "execution_count": 40,
     "metadata": {},
     "output_type": "execute_result"
    }
   ],
   "source": [
    "len(temp)"
   ]
  },
  {
   "cell_type": "code",
   "execution_count": 42,
   "id": "ec203769-cb61-4e09-8d43-8fd774a9f52e",
   "metadata": {},
   "outputs": [
    {
     "data": {
      "text/plain": [
       "39826"
      ]
     },
     "execution_count": 42,
     "metadata": {},
     "output_type": "execute_result"
    }
   ],
   "source": [
    "len(temp)"
   ]
  },
  {
   "cell_type": "code",
   "execution_count": null,
   "id": "3c4e1777-ca33-4859-90dc-02f3d2ef80fd",
   "metadata": {},
   "outputs": [],
   "source": []
  },
  {
   "cell_type": "code",
   "execution_count": null,
   "id": "7e1f1128-2913-48ca-8d3e-d5b38232e78c",
   "metadata": {},
   "outputs": [],
   "source": []
  },
  {
   "cell_type": "code",
   "execution_count": null,
   "id": "c6a5d683-97c8-4455-98e6-538ef8140076",
   "metadata": {},
   "outputs": [],
   "source": []
  }
 ],
 "metadata": {
  "kernelspec": {
   "display_name": "Python 3 (ipykernel)",
   "language": "python",
   "name": "python3"
  },
  "language_info": {
   "codemirror_mode": {
    "name": "ipython",
    "version": 3
   },
   "file_extension": ".py",
   "mimetype": "text/x-python",
   "name": "python",
   "nbconvert_exporter": "python",
   "pygments_lexer": "ipython3",
   "version": "3.10.14"
  }
 },
 "nbformat": 4,
 "nbformat_minor": 5
}
