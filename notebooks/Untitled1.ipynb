{
 "cells": [
  {
   "cell_type": "code",
   "execution_count": 1,
   "id": "dcd245ce-a38a-4fe2-bf03-f40132194ad7",
   "metadata": {},
   "outputs": [],
   "source": [
    "import torch"
   ]
  },
  {
   "cell_type": "code",
   "execution_count": null,
   "id": "ce59b5f9-77ff-4660-b360-128c2dfea4b7",
   "metadata": {},
   "outputs": [],
   "source": []
  },
  {
   "cell_type": "code",
   "execution_count": 19,
   "id": "2015fb10-e1f6-4a68-b0ec-6c1a14bdeafa",
   "metadata": {},
   "outputs": [],
   "source": [
    "tensor_2d = torch.tensor([[1, 2, 3], [4, 5, 6], [7, 8, 9]])"
   ]
  },
  {
   "cell_type": "code",
   "execution_count": 20,
   "id": "c08d40db-f0f9-4f50-90c8-a40a5fd01a41",
   "metadata": {},
   "outputs": [
    {
     "data": {
      "text/plain": [
       "tensor([[1, 2, 3],\n",
       "        [4, 5, 6],\n",
       "        [7, 8, 9]])"
      ]
     },
     "execution_count": 20,
     "metadata": {},
     "output_type": "execute_result"
    }
   ],
   "source": [
    "tensor_2d"
   ]
  },
  {
   "cell_type": "code",
   "execution_count": null,
   "id": "64ed39f3-a2da-4af1-b421-88cff1d12f4e",
   "metadata": {},
   "outputs": [],
   "source": []
  },
  {
   "cell_type": "code",
   "execution_count": 25,
   "id": "586b5a2f-0442-47f3-a968-b698945c276b",
   "metadata": {},
   "outputs": [
    {
     "data": {
      "text/plain": [
       "tensor([[1],\n",
       "        [5],\n",
       "        [9]])"
      ]
     },
     "execution_count": 25,
     "metadata": {},
     "output_type": "execute_result"
    }
   ],
   "source": [
    "diagonal_elements = torch.diagonal(tensor_2d).unsqueeze(1)\n",
    "diagonal_elements"
   ]
  },
  {
   "cell_type": "code",
   "execution_count": null,
   "id": "6d53ae39-d7bf-4ddf-a457-10dbf840d8fe",
   "metadata": {},
   "outputs": [],
   "source": []
  },
  {
   "cell_type": "code",
   "execution_count": 28,
   "id": "ef743ae5-ff57-4fda-adb3-454bd0e1dde2",
   "metadata": {},
   "outputs": [
    {
     "data": {
      "text/plain": [
       "tensor([[1, 2, 3, 1],\n",
       "        [4, 5, 6, 5],\n",
       "        [7, 8, 9, 9]])"
      ]
     },
     "execution_count": 28,
     "metadata": {},
     "output_type": "execute_result"
    }
   ],
   "source": [
    "temp = torch.cat([tensor_2d, diagonal_elements], dim = 1)\n",
    "temp"
   ]
  },
  {
   "cell_type": "code",
   "execution_count": null,
   "id": "aec34e3b-9dc1-4564-9a3d-77779f7fec35",
   "metadata": {},
   "outputs": [],
   "source": []
  },
  {
   "cell_type": "code",
   "execution_count": 14,
   "id": "98f465eb-8cbf-45a8-ab68-465bff3aa837",
   "metadata": {},
   "outputs": [],
   "source": [
    "bs = 3"
   ]
  },
  {
   "cell_type": "code",
   "execution_count": 17,
   "id": "fa6192c0-d025-43eb-858d-15237d24c452",
   "metadata": {},
   "outputs": [
    {
     "data": {
      "text/plain": [
       "tensor([0, 1, 2])"
      ]
     },
     "execution_count": 17,
     "metadata": {},
     "output_type": "execute_result"
    }
   ],
   "source": [
    "hard_negative_columns = torch.arange(bs)\n",
    "hard_negative_columns"
   ]
  },
  {
   "cell_type": "code",
   "execution_count": null,
   "id": "8935e0a4-6f0e-46c9-b6a3-dfe9aa0442c4",
   "metadata": {},
   "outputs": [],
   "source": []
  },
  {
   "cell_type": "code",
   "execution_count": 21,
   "id": "69e9850f-d73b-411a-a11e-c679aa646ba8",
   "metadata": {},
   "outputs": [
    {
     "data": {
      "text/plain": [
       "tensor([[1, 2, 3, 1, 2, 3],\n",
       "        [4, 5, 6, 4, 5, 6],\n",
       "        [7, 8, 9, 7, 8, 9]])"
      ]
     },
     "execution_count": 21,
     "metadata": {},
     "output_type": "execute_result"
    }
   ],
   "source": [
    "torch.cat([tensor_2d, tensor_2d[:, hard_negative_columns]], dim=1)"
   ]
  },
  {
   "cell_type": "code",
   "execution_count": null,
   "id": "5fe65d57-beaa-4aa4-adac-f265ad887ec3",
   "metadata": {},
   "outputs": [],
   "source": []
  },
  {
   "cell_type": "code",
   "execution_count": 22,
   "id": "4c64c6c4-d7ec-4e17-b81b-47a9d8398245",
   "metadata": {},
   "outputs": [
    {
     "data": {
      "text/plain": [
       "tensor([[1, 2, 3],\n",
       "        [4, 5, 6],\n",
       "        [7, 8, 9]])"
      ]
     },
     "execution_count": 22,
     "metadata": {},
     "output_type": "execute_result"
    }
   ],
   "source": [
    "tensor_2d[:, hard_negative_columns]"
   ]
  },
  {
   "cell_type": "code",
   "execution_count": null,
   "id": "c1822778-252d-447f-94e2-69eb1dbb0f1c",
   "metadata": {},
   "outputs": [],
   "source": []
  },
  {
   "cell_type": "code",
   "execution_count": null,
   "id": "8c003113-92a2-46a1-9b65-2103a52e2827",
   "metadata": {},
   "outputs": [],
   "source": []
  },
  {
   "cell_type": "code",
   "execution_count": null,
   "id": "a1da3244-0f1d-44ac-bf0c-15f3874d9188",
   "metadata": {},
   "outputs": [],
   "source": []
  },
  {
   "cell_type": "code",
   "execution_count": null,
   "id": "9bc778f5-3593-467e-83ec-fab12adfcf1b",
   "metadata": {},
   "outputs": [],
   "source": []
  },
  {
   "cell_type": "code",
   "execution_count": null,
   "id": "710aac0c-fded-4782-b038-c228993dbba9",
   "metadata": {},
   "outputs": [],
   "source": []
  },
  {
   "cell_type": "code",
   "execution_count": null,
   "id": "0787df1a-a607-48af-addc-dd5d1b756105",
   "metadata": {},
   "outputs": [],
   "source": []
  }
 ],
 "metadata": {
  "kernelspec": {
   "display_name": "Python 3 (ipykernel)",
   "language": "python",
   "name": "python3"
  },
  "language_info": {
   "codemirror_mode": {
    "name": "ipython",
    "version": 3
   },
   "file_extension": ".py",
   "mimetype": "text/x-python",
   "name": "python",
   "nbconvert_exporter": "python",
   "pygments_lexer": "ipython3",
   "version": "3.10.14"
  }
 },
 "nbformat": 4,
 "nbformat_minor": 5
}
