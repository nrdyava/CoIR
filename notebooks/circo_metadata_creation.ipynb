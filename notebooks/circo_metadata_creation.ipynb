{
 "cells": [
  {
   "cell_type": "code",
   "execution_count": 1,
   "id": "dec409a7-539e-4eeb-8860-baae478fac10",
   "metadata": {},
   "outputs": [],
   "source": [
    "import os\n",
    "import json"
   ]
  },
  {
   "cell_type": "markdown",
   "id": "ff77a4b1-fc3b-4d91-aaeb-222b1fc3681c",
   "metadata": {},
   "source": [
    "## Create Corpus Data"
   ]
  },
  {
   "cell_type": "code",
   "execution_count": 2,
   "id": "ae5a41f8-4609-4833-aa7c-4e3678868f3e",
   "metadata": {},
   "outputs": [],
   "source": [
    "circo_path = \"/proj/vondrick4/naveen/coir-data/CIRCO\""
   ]
  },
  {
   "cell_type": "code",
   "execution_count": 3,
   "id": "430147ec-f8b8-4930-b7c5-1cc8c5fa62b5",
   "metadata": {},
   "outputs": [],
   "source": [
    "images_info = json.load(open('/proj/vondrick4/naveen/coir-data/CIRCO/COCO2017_unlabeled/annotations/image_info_unlabeled2017.json', 'r'))['images']"
   ]
  },
  {
   "cell_type": "code",
   "execution_count": 4,
   "id": "3704b4e5-5699-450b-ac4f-a218483db37f",
   "metadata": {},
   "outputs": [
    {
     "data": {
      "text/plain": [
       "123403"
      ]
     },
     "execution_count": 4,
     "metadata": {},
     "output_type": "execute_result"
    }
   ],
   "source": [
    "len(images_info)"
   ]
  },
  {
   "cell_type": "code",
   "execution_count": 5,
   "id": "442684fc-3069-4bfb-a5e4-91c16738f909",
   "metadata": {},
   "outputs": [
    {
     "data": {
      "text/plain": [
       "{'license': 2,\n",
       " 'file_name': '000000533083.jpg',\n",
       " 'coco_url': 'http://images.cocodataset.org/unlabeled2017/000000533083.jpg',\n",
       " 'height': 640,\n",
       " 'width': 426,\n",
       " 'date_captured': '2013-11-14 10:56:14',\n",
       " 'flickr_url': 'http://farm3.staticflickr.com/2567/4077404434_1bdea2d393_z.jpg',\n",
       " 'id': 533083}"
      ]
     },
     "execution_count": 5,
     "metadata": {},
     "output_type": "execute_result"
    }
   ],
   "source": [
    "images_info[0]"
   ]
  },
  {
   "cell_type": "code",
   "execution_count": 6,
   "id": "1c6e4026-1d05-40f0-88d0-d0fd91c434ac",
   "metadata": {},
   "outputs": [],
   "source": [
    "corpus_images = []\n",
    "for img in images_info:\n",
    "    temp = {}\n",
    "    temp['image-id'] = img['id']\n",
    "    temp['image-path'] = os.path.join('COCO2017_unlabeled/unlabeled2017', img['file_name'])\n",
    "    corpus_images.append(temp)"
   ]
  },
  {
   "cell_type": "code",
   "execution_count": 7,
   "id": "3c6a6524-7b74-4499-a8f6-5d4c37c8a73d",
   "metadata": {},
   "outputs": [],
   "source": [
    "with open('/proj/vondrick4/naveen/coir-data/CIRCO/metadata/corpus.json', 'w') as json_file:\n",
    "    json.dump(corpus_images , json_file, indent=4)"
   ]
  },
  {
   "cell_type": "markdown",
   "id": "4b0d5939-2684-4a25-bc9d-514dcca5be57",
   "metadata": {
    "scrolled": true
   },
   "source": [
    "## Retrieval Data"
   ]
  },
  {
   "cell_type": "code",
   "execution_count": 8,
   "id": "074feb23-40bf-458c-9b53-177efb5c33d7",
   "metadata": {},
   "outputs": [],
   "source": [
    "val_retrieval_data = json.load(open('/proj/vondrick4/naveen/coir-data/CIRCO/annotations/val.json', 'r'))"
   ]
  },
  {
   "cell_type": "code",
   "execution_count": 16,
   "id": "9cf7cbdf-bd43-4412-a3c5-898aff00aa51",
   "metadata": {},
   "outputs": [],
   "source": [
    "val_retrieval_indexed = []\n",
    "\n",
    "for sample in val_retrieval_data:\n",
    "    temp = {}\n",
    "    temp['id'] = sample['id']\n",
    "    qid = sample['reference_img_id']\n",
    "    temp['query-image-id'] = qid\n",
    "    temp['query-image-path'] = os.path.join('COCO2017_unlabeled/unlabeled2017', f\"{qid:012d}.jpg\")\n",
    "    temp['query-text'] = sample['relative_caption']\n",
    "    temp['target-image-id'] = sample['target_img_id']\n",
    "    temp['gt-image-ids'] = sample['gt_img_ids']\n",
    "    val_retrieval_indexed.append(temp)"
   ]
  },
  {
   "cell_type": "code",
   "execution_count": 18,
   "id": "86d0c7bc-1074-40a9-8181-37026949a00a",
   "metadata": {},
   "outputs": [],
   "source": [
    "with open('/proj/vondrick4/naveen/coir-data/CIRCO/metadata/val-retrieval.json', 'w') as json_file:\n",
    "    json.dump(val_retrieval_indexed , json_file, indent=4)"
   ]
  }
 ],
 "metadata": {
  "kernelspec": {
   "display_name": "Python 3 (ipykernel)",
   "language": "python",
   "name": "python3"
  },
  "language_info": {
   "codemirror_mode": {
    "name": "ipython",
    "version": 3
   },
   "file_extension": ".py",
   "mimetype": "text/x-python",
   "name": "python",
   "nbconvert_exporter": "python",
   "pygments_lexer": "ipython3",
   "version": "3.10.14"
  }
 },
 "nbformat": 4,
 "nbformat_minor": 5
}
