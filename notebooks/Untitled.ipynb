{
 "cells": [
  {
   "cell_type": "code",
   "execution_count": 20,
   "id": "48bb37e6-cf16-4ea6-8c62-bfcd44115b41",
   "metadata": {},
   "outputs": [],
   "source": [
    "import os\n",
    "import sys\n",
    "import torch\n",
    "from tqdm import tqdm\n",
    "from PIL import Image\n",
    "import json\n",
    "\n",
    "sys.path.append('/local/vondrick/nd2794/CoIR')\n",
    "from transformers import AutoProcessor, AutoTokenizer"
   ]
  },
  {
   "cell_type": "code",
   "execution_count": null,
   "id": "9a206a3e-7c20-4dd3-abcc-2d308390233a",
   "metadata": {},
   "outputs": [],
   "source": []
  },
  {
   "cell_type": "code",
   "execution_count": 3,
   "id": "6fb59f3b-62df-4a21-9212-653a811002c7",
   "metadata": {},
   "outputs": [
    {
     "name": "stderr",
     "output_type": "stream",
     "text": [
      "/local/vondrick/nd2794/miniconda3/envs/coir-clip/lib/python3.10/site-packages/transformers/tokenization_utils_base.py:1601: FutureWarning: `clean_up_tokenization_spaces` was not set. It will be set to `True` by default. This behavior will be depracted in transformers v4.45, and will be then set to `False` by default. For more details check this issue: https://github.com/huggingface/transformers/issues/31884\n",
      "  warnings.warn(\n"
     ]
    }
   ],
   "source": [
    "image_processor = AutoProcessor.from_pretrained(\n",
    "    '/local/vondrick/nd2794/pretrained_models/clip/clip-vit-base-patch32'\n",
    ")"
   ]
  },
  {
   "cell_type": "code",
   "execution_count": null,
   "id": "218a1a22-e4c5-494d-93e6-816488093f97",
   "metadata": {},
   "outputs": [],
   "source": []
  },
  {
   "cell_type": "code",
   "execution_count": 6,
   "id": "41ebc563-3870-4c60-982f-14b4955db34f",
   "metadata": {},
   "outputs": [],
   "source": [
    "img = Image.open(\"/local/vondrick/nd2794/CoIR/data/LaSCo/coco/val2014/COCO_val2014_000000000074.jpg\")"
   ]
  },
  {
   "cell_type": "code",
   "execution_count": null,
   "id": "33bf9729-a071-438f-82fa-001c4c603bf6",
   "metadata": {},
   "outputs": [],
   "source": []
  },
  {
   "cell_type": "code",
   "execution_count": null,
   "id": "19efbd02-c64f-449c-939c-5218acf4a26a",
   "metadata": {},
   "outputs": [],
   "source": []
  },
  {
   "cell_type": "code",
   "execution_count": null,
   "id": "62657fd1-831c-4e34-a069-30365c345643",
   "metadata": {},
   "outputs": [],
   "source": [
    "lasco_train = json.loads(\"\")"
   ]
  },
  {
   "cell_type": "code",
   "execution_count": null,
   "id": "d2a8a290-26cf-4659-bfe6-292ca3f93f65",
   "metadata": {},
   "outputs": [],
   "source": []
  },
  {
   "cell_type": "code",
   "execution_count": 23,
   "id": "561b6ef0-0218-4be2-a6fe-07835266bda3",
   "metadata": {},
   "outputs": [
    {
     "data": {
      "text/plain": [
       "['COCO_train2014_000000284336.jpg',\n",
       " 'COCO_train2014_000000400379.jpg',\n",
       " 'COCO_train2014_000000308197.jpg',\n",
       " 'COCO_train2014_000000205631.jpg',\n",
       " 'COCO_train2014_000000507101.jpg']"
      ]
     },
     "execution_count": 23,
     "metadata": {},
     "output_type": "execute_result"
    }
   ],
   "source": [
    "imgs_list = os.listdir('/local/vondrick/nd2794/CoIR/data/LaSCo/coco/train2014')\n",
    "imgs_list[:5]"
   ]
  },
  {
   "cell_type": "code",
   "execution_count": null,
   "id": "8e999a72-a76b-4277-a2da-12427e6151b3",
   "metadata": {},
   "outputs": [],
   "source": []
  },
  {
   "cell_type": "code",
   "execution_count": 25,
   "id": "8e7c967a-bda8-462e-b134-e14460d5ff87",
   "metadata": {},
   "outputs": [
    {
     "data": {
      "text/plain": [
       "'COCO_train2014_000000284336.pt'"
      ]
     },
     "execution_count": 25,
     "metadata": {},
     "output_type": "execute_result"
    }
   ],
   "source": [
    "imgs_list[0].replace('.jpg', '.pt')"
   ]
  },
  {
   "cell_type": "code",
   "execution_count": null,
   "id": "518d051d-91f7-401b-a078-52dc68d1df40",
   "metadata": {},
   "outputs": [],
   "source": []
  },
  {
   "cell_type": "code",
   "execution_count": null,
   "id": "1b7c261d-10c7-4520-baa3-04077e464402",
   "metadata": {},
   "outputs": [],
   "source": []
  },
  {
   "cell_type": "code",
   "execution_count": null,
   "id": "1caeb39c-fd96-471c-99c6-a19cdb953bee",
   "metadata": {},
   "outputs": [],
   "source": []
  },
  {
   "cell_type": "code",
   "execution_count": 26,
   "id": "c3ba8d2f-14ba-48bc-adc3-9a7032e291b5",
   "metadata": {},
   "outputs": [],
   "source": [
    "jpg_files = [f for f in os.listdir('/local/vondrick/nd2794/CoIR/data/LaSCo/coco/train2014') if f.endswith('.jpg')]"
   ]
  },
  {
   "cell_type": "code",
   "execution_count": null,
   "id": "249f9bfd-252d-4577-86cb-dc5dbdbdf005",
   "metadata": {},
   "outputs": [],
   "source": []
  },
  {
   "cell_type": "code",
   "execution_count": null,
   "id": "71adeec6-5504-474a-885a-4d87f1feafc8",
   "metadata": {},
   "outputs": [],
   "source": []
  },
  {
   "cell_type": "code",
   "execution_count": null,
   "id": "738527bd-f53d-4833-b4b5-6e6cb96632ee",
   "metadata": {},
   "outputs": [],
   "source": []
  },
  {
   "cell_type": "code",
   "execution_count": 9,
   "id": "af97aeb5-0014-4562-8307-cc7ea78a344f",
   "metadata": {},
   "outputs": [],
   "source": [
    "imgp_out = image_processor(images = img, return_tensors='pt')"
   ]
  },
  {
   "cell_type": "code",
   "execution_count": 28,
   "id": "65e7b219-8c91-4c2d-ae35-1b5e20f2a59f",
   "metadata": {},
   "outputs": [
    {
     "data": {
      "text/plain": [
       "{'pixel_values': tensor([[[[-0.2448, -0.2302, -0.0988,  ...,  0.9814,  1.1712,  1.3172],\n",
       "          [-0.2448, -0.2594, -0.2448,  ...,  0.9084,  1.2442,  1.3318],\n",
       "          [-0.2302, -0.2448, -0.2448,  ...,  0.8938,  1.2150,  1.2880],\n",
       "          ...,\n",
       "          [ 0.7479,  0.7333,  0.5435,  ...,  1.0982,  0.9668,  0.9084],\n",
       "          [ 0.3099,  0.3099,  0.3537,  ...,  0.8792,  1.1566,  1.1712],\n",
       "          [ 0.5435,  0.5873,  0.4851,  ...,  1.1420,  1.1712,  1.0544]],\n",
       "\n",
       "         [[-0.4464, -0.4464, -0.3564,  ...,  0.6491,  0.7992,  0.9193],\n",
       "          [-0.4464, -0.4914, -0.5065,  ...,  0.5591,  0.8743,  0.9493],\n",
       "          [-0.4614, -0.4914, -0.5065,  ...,  0.5291,  0.8442,  0.8893],\n",
       "          ...,\n",
       "          [ 0.6041,  0.5891,  0.4090,  ...,  1.0393,  0.8893,  0.7842],\n",
       "          [ 0.1389,  0.1539,  0.1989,  ...,  0.7392,  1.0544,  1.0844],\n",
       "          [ 0.4090,  0.4991,  0.3490,  ...,  1.0544,  1.0844,  0.9793]],\n",
       "\n",
       "         [[-0.5986, -0.5986, -0.4990,  ...,  0.3115,  0.4110,  0.5106],\n",
       "          [-0.6128, -0.6270, -0.6412,  ...,  0.2688,  0.5106,  0.5390],\n",
       "          [-0.6128, -0.6270, -0.6412,  ...,  0.2404,  0.4679,  0.4821],\n",
       "          ...,\n",
       "          [ 0.6244,  0.6244,  0.4537,  ...,  1.0225,  0.8803,  0.7808],\n",
       "          [ 0.1693,  0.1977,  0.2688,  ...,  0.7666,  1.0652,  1.0794],\n",
       "          [ 0.4537,  0.5106,  0.3826,  ...,  1.0510,  1.0794,  0.9799]]]])}"
      ]
     },
     "execution_count": 28,
     "metadata": {},
     "output_type": "execute_result"
    }
   ],
   "source": [
    "imgp_out"
   ]
  },
  {
   "cell_type": "code",
   "execution_count": null,
   "id": "582fdd05-4d65-4f78-a702-68f4dea1745e",
   "metadata": {},
   "outputs": [],
   "source": []
  },
  {
   "cell_type": "code",
   "execution_count": 29,
   "id": "e0744bbd-3240-4c4d-b968-ea45f1f29bf2",
   "metadata": {},
   "outputs": [
    {
     "name": "stdout",
     "output_type": "stream",
     "text": [
      "CPU times: user 1.67 ms, sys: 8 μs, total: 1.68 ms\n",
      "Wall time: 1.71 ms\n"
     ]
    }
   ],
   "source": [
    "%%time\n",
    "torch.save(imgp_out, '/local/vondrick/nd2794/CoIR/notebooks/test_tensor.pt')"
   ]
  },
  {
   "cell_type": "code",
   "execution_count": null,
   "id": "78a36243-1614-421c-89f2-982451c5b277",
   "metadata": {},
   "outputs": [],
   "source": []
  },
  {
   "cell_type": "code",
   "execution_count": 30,
   "id": "c955936f-c7be-4325-8a22-ee53caf21571",
   "metadata": {},
   "outputs": [
    {
     "name": "stdout",
     "output_type": "stream",
     "text": [
      "CPU times: user 1.96 ms, sys: 143 μs, total: 2.1 ms\n",
      "Wall time: 1.76 ms\n"
     ]
    }
   ],
   "source": [
    "%%time\n",
    "loaded_ten = torch.load('/local/vondrick/nd2794/CoIR/notebooks/test_tensor.pt')"
   ]
  },
  {
   "cell_type": "code",
   "execution_count": null,
   "id": "eff5cee6-3b18-4c32-8071-79b33264d61f",
   "metadata": {},
   "outputs": [],
   "source": []
  },
  {
   "cell_type": "code",
   "execution_count": null,
   "id": "3da7a4df-f365-47df-87a1-4d8b5ea1ce92",
   "metadata": {},
   "outputs": [],
   "source": []
  },
  {
   "cell_type": "code",
   "execution_count": null,
   "id": "b729e927-00b1-4b10-a3cd-bd5483fe7950",
   "metadata": {},
   "outputs": [],
   "source": []
  },
  {
   "cell_type": "code",
   "execution_count": null,
   "id": "0ca1e253-261b-4e14-bd93-468c6ec52fa6",
   "metadata": {},
   "outputs": [],
   "source": []
  },
  {
   "cell_type": "code",
   "execution_count": null,
   "id": "81585e7e-6fcc-4f88-8748-14de890cd4a3",
   "metadata": {},
   "outputs": [],
   "source": []
  }
 ],
 "metadata": {
  "kernelspec": {
   "display_name": "Python 3 (ipykernel)",
   "language": "python",
   "name": "python3"
  },
  "language_info": {
   "codemirror_mode": {
    "name": "ipython",
    "version": 3
   },
   "file_extension": ".py",
   "mimetype": "text/x-python",
   "name": "python",
   "nbconvert_exporter": "python",
   "pygments_lexer": "ipython3",
   "version": "3.10.14"
  }
 },
 "nbformat": 4,
 "nbformat_minor": 5
}
