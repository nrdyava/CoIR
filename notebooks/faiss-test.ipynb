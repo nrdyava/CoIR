{
 "cells": [
  {
   "cell_type": "code",
   "execution_count": 2,
   "id": "b14fefe8-a219-4699-9d98-2a71a31efb5e",
   "metadata": {},
   "outputs": [],
   "source": [
    "import os\n",
    "import sys\n",
    "import json\n",
    "import faiss\n",
    "import copy\n",
    "import yaml\n",
    "import torch\n",
    "from torch.utils.data import DataLoader\n",
    "from lightning.pytorch import seed_everything\n",
    "from tqdm import tqdm\n",
    "\n",
    "sys.path.append('/local/vondrick/nd2794/CoIR')\n",
    "from src.datasets.lasco_datasets import lasco_corpus_dataset"
   ]
  },
  {
   "cell_type": "code",
   "execution_count": null,
   "id": "a7c6deda-579d-4e57-91fe-9de708fc74f1",
   "metadata": {},
   "outputs": [],
   "source": []
  },
  {
   "cell_type": "code",
   "execution_count": 3,
   "id": "75b0c685-c932-4aaf-8a1c-b1735dcabde3",
   "metadata": {},
   "outputs": [],
   "source": [
    "d = 512\n",
    "res = faiss.StandardGpuResources()\n",
    "index = faiss.IndexFlatIP(d)"
   ]
  },
  {
   "cell_type": "code",
   "execution_count": null,
   "id": "1353c024-37e3-47cf-9679-3e51f34e1e8e",
   "metadata": {},
   "outputs": [],
   "source": []
  },
  {
   "cell_type": "code",
   "execution_count": null,
   "id": "014ebcf5-7880-42d6-b445-a7a043f0fd88",
   "metadata": {},
   "outputs": [],
   "source": [
    "cuda_device = 1\n",
    "gpu_index_flat = faiss.index_cpu_to_gpu(res, cuda_device, index)"
   ]
  },
  {
   "cell_type": "code",
   "execution_count": null,
   "id": "19d08677-1aee-4e05-8ab1-8c8dc5e44133",
   "metadata": {},
   "outputs": [],
   "source": []
  },
  {
   "cell_type": "code",
   "execution_count": null,
   "id": "4f42d044-a45e-4c51-987c-441fba9d18f0",
   "metadata": {},
   "outputs": [],
   "source": []
  },
  {
   "cell_type": "code",
   "execution_count": null,
   "id": "22e59f47-2556-4584-aeb3-4490dddd4a4e",
   "metadata": {},
   "outputs": [],
   "source": []
  },
  {
   "cell_type": "code",
   "execution_count": null,
   "id": "b29542f2-0903-4690-a57b-5cf1e9d6d6f2",
   "metadata": {},
   "outputs": [],
   "source": []
  },
  {
   "cell_type": "code",
   "execution_count": null,
   "id": "e5f9e4e3-9923-4a9b-9476-5d47b431220e",
   "metadata": {},
   "outputs": [],
   "source": []
  },
  {
   "cell_type": "code",
   "execution_count": null,
   "id": "e31aa38e-e598-46ef-99fa-60b833fcd2a5",
   "metadata": {},
   "outputs": [],
   "source": []
  },
  {
   "cell_type": "code",
   "execution_count": null,
   "id": "cd3bf15a-aa78-4695-aee5-f66b206888b0",
   "metadata": {},
   "outputs": [],
   "source": []
  },
  {
   "cell_type": "code",
   "execution_count": null,
   "id": "fe4bd89d-6cb5-41c8-8fa3-cff21eaf0b01",
   "metadata": {},
   "outputs": [],
   "source": []
  },
  {
   "cell_type": "code",
   "execution_count": null,
   "id": "9f99b782-ef00-498a-a609-598a0635bcec",
   "metadata": {},
   "outputs": [],
   "source": []
  },
  {
   "cell_type": "code",
   "execution_count": null,
   "id": "44b0627d-332c-43bc-97b7-8b9fa5d5e621",
   "metadata": {},
   "outputs": [],
   "source": []
  },
  {
   "cell_type": "code",
   "execution_count": null,
   "id": "82b2dd1f-710d-4e1a-b1f7-b9912c0fa2dc",
   "metadata": {},
   "outputs": [],
   "source": []
  },
  {
   "cell_type": "code",
   "execution_count": null,
   "id": "b11022f0-232f-4b87-b055-9b3e6bda8135",
   "metadata": {},
   "outputs": [],
   "source": []
  },
  {
   "cell_type": "code",
   "execution_count": null,
   "id": "ce14a460-30f2-4bd0-8040-bb799e380a3e",
   "metadata": {},
   "outputs": [],
   "source": []
  }
 ],
 "metadata": {
  "kernelspec": {
   "display_name": "Python 3 (ipykernel)",
   "language": "python",
   "name": "python3"
  },
  "language_info": {
   "codemirror_mode": {
    "name": "ipython",
    "version": 3
   },
   "file_extension": ".py",
   "mimetype": "text/x-python",
   "name": "python",
   "nbconvert_exporter": "python",
   "pygments_lexer": "ipython3",
   "version": "3.10.14"
  }
 },
 "nbformat": 4,
 "nbformat_minor": 5
}
