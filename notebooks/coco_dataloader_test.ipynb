{
 "cells": [
  {
   "cell_type": "code",
   "execution_count": 1,
   "id": "f6a4b7fa-60af-493a-809c-a0904dfcddba",
   "metadata": {},
   "outputs": [],
   "source": [
    "import os\n",
    "import sys\n",
    "import yaml\n",
    "import copy\n",
    "import json\n",
    "import torch\n",
    "from torch.utils.data import Dataset, DataLoader\n",
    "from lightning.pytorch import seed_everything\n",
    "\n",
    "sys.path.append('/local/vondrick/nd2794/CoIR')\n",
    "from src.datasets.coco_captions_2014_dataset import coco_captions_dataset_image_tensors"
   ]
  },
  {
   "cell_type": "code",
   "execution_count": null,
   "id": "0cd93395-ec3c-4997-93ef-241574a74af5",
   "metadata": {},
   "outputs": [],
   "source": []
  },
  {
   "cell_type": "code",
   "execution_count": 2,
   "id": "2a8e40e1-30d7-4342-94fc-23e30c140d5e",
   "metadata": {},
   "outputs": [],
   "source": [
    "config = copy.deepcopy(yaml.safe_load(open('/local/vondrick/nd2794/CoIR/configs/coco_caps_2014_config.yaml', 'r')))"
   ]
  },
  {
   "cell_type": "code",
   "execution_count": null,
   "id": "af5bb66c-c713-4d12-b20c-bed69578d7c3",
   "metadata": {},
   "outputs": [],
   "source": []
  },
  {
   "cell_type": "code",
   "execution_count": 3,
   "id": "829914cc-0a9b-4683-a401-56165096923c",
   "metadata": {},
   "outputs": [
    {
     "name": "stderr",
     "output_type": "stream",
     "text": [
      "Seed set to 42\n"
     ]
    },
    {
     "data": {
      "text/plain": [
       "42"
      ]
     },
     "execution_count": 3,
     "metadata": {},
     "output_type": "execute_result"
    }
   ],
   "source": [
    "os.environ['TOKENIZERS_PARALLELISM'] = config['TOKENIZERS_PARALLELISM']\n",
    "os.environ['CUDA_LAUNCH_BLOCKING'] = config['CUDA_LAUNCH_BLOCKING']\n",
    "os.environ['TORCH_USE_CUDA_DS'] = config['TORCH_USE_CUDA_DS']\n",
    "torch.set_float32_matmul_precision(config['float32_matmul_precision'])\n",
    "\n",
    "# sets seeds for numpy, torch and python.random.\n",
    "seed_everything(config['seed'], workers=True)"
   ]
  },
  {
   "cell_type": "code",
   "execution_count": null,
   "id": "db787149-f5e8-4fbd-b87f-b51ad16f62ea",
   "metadata": {},
   "outputs": [],
   "source": []
  },
  {
   "cell_type": "code",
   "execution_count": 4,
   "id": "330828fa-72e9-41c6-b556-6e9b02fa8096",
   "metadata": {},
   "outputs": [
    {
     "name": "stderr",
     "output_type": "stream",
     "text": [
      "/local/vondrick/nd2794/miniconda3/envs/coir-clip/lib/python3.10/site-packages/transformers/tokenization_utils_base.py:1601: FutureWarning: `clean_up_tokenization_spaces` was not set. It will be set to `True` by default. This behavior will be depracted in transformers v4.45, and will be then set to `False` by default. For more details check this issue: https://github.com/huggingface/transformers/issues/31884\n",
      "  warnings.warn(\n"
     ]
    }
   ],
   "source": [
    "dataset = coco_captions_dataset_image_tensors(config, 'val')\n",
    "\n",
    "dataloader =  DataLoader(\n",
    "    dataset=dataset, \n",
    "    batch_size=config['dataloader']['batch_size'], \n",
    "    shuffle=config['dataloader']['shuffle'],\n",
    "    num_workers=config['dataloader']['num_workers'], \n",
    "    collate_fn=dataset.collate_fn,\n",
    "    pin_memory=config['dataloader']['pin_memory'],\n",
    "    drop_last=config['dataloader']['drop_last'],\n",
    "    persistent_workers=config['dataloader']['persistent_workers']\n",
    ")"
   ]
  },
  {
   "cell_type": "code",
   "execution_count": null,
   "id": "5e2b2ad0-6937-468f-a8b9-3605cb7df792",
   "metadata": {},
   "outputs": [],
   "source": []
  },
  {
   "cell_type": "code",
   "execution_count": null,
   "id": "f8b763cc-8d97-42e8-9a35-43e6fc8a58b3",
   "metadata": {},
   "outputs": [],
   "source": []
  },
  {
   "cell_type": "code",
   "execution_count": null,
   "id": "35c46d5c-56fb-42aa-9a76-33c72e1dd1f1",
   "metadata": {},
   "outputs": [],
   "source": []
  },
  {
   "cell_type": "code",
   "execution_count": null,
   "id": "6486a478-6f9b-4262-aee5-3c52ebcb8812",
   "metadata": {},
   "outputs": [],
   "source": []
  },
  {
   "cell_type": "code",
   "execution_count": null,
   "id": "2dc71aad-95e9-4f26-83ff-70da91fd16ce",
   "metadata": {},
   "outputs": [],
   "source": []
  },
  {
   "cell_type": "code",
   "execution_count": null,
   "id": "0edb87c5-535d-42b7-a285-9893bdee0c4e",
   "metadata": {},
   "outputs": [],
   "source": []
  },
  {
   "cell_type": "code",
   "execution_count": null,
   "id": "1cb7b5d1-a05d-41c7-a006-6c87c73d9c44",
   "metadata": {},
   "outputs": [],
   "source": []
  },
  {
   "cell_type": "code",
   "execution_count": null,
   "id": "79fb3773-817c-4bb9-a65b-fa1dc6321158",
   "metadata": {},
   "outputs": [],
   "source": []
  },
  {
   "cell_type": "code",
   "execution_count": null,
   "id": "2680f8a7-f0ca-4887-b19b-5658e3d10936",
   "metadata": {},
   "outputs": [],
   "source": []
  }
 ],
 "metadata": {
  "kernelspec": {
   "display_name": "Python 3 (ipykernel)",
   "language": "python",
   "name": "python3"
  },
  "language_info": {
   "codemirror_mode": {
    "name": "ipython",
    "version": 3
   },
   "file_extension": ".py",
   "mimetype": "text/x-python",
   "name": "python",
   "nbconvert_exporter": "python",
   "pygments_lexer": "ipython3",
   "version": "3.10.14"
  }
 },
 "nbformat": 4,
 "nbformat_minor": 5
}
