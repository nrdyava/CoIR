{
 "cells": [
  {
   "cell_type": "code",
   "execution_count": 17,
   "id": "eb2d08e4-7a63-432f-a2b8-b7122aa15268",
   "metadata": {},
   "outputs": [],
   "source": [
    "import os\n",
    "import sys\n",
    "import json\n",
    "import argparse\n",
    "import copy\n",
    "import yaml\n",
    "import numpy as np\n",
    "from tabulate import tabulate\n",
    "from tqdm import tqd\n",
    "import faiss\n",
    "import copy\n",
    "import yaml\n",
    "import numpy as np\n",
    "import torch\n",
    "from torch.utils.data import DataLoader\n",
    "from transformers import CLIPVisionModelWithProjection, CLIPTextModelWithProjection\n",
    "\n",
    "sys.path.append('/proj/vondrick4/naveen/CoIR')\n",
    "\n",
    "#from src.models.clip.clip import CLIPModel\n",
    "from src.metrics.metrics import calculate_recall\n",
    "from src.datasets.lasco_corpus_dataset import lasco_corpus_dataset\n",
    "#from src.datasets.lasco_datasets import lasco_corpus_dataset, lasco_retrieval_dataset\n",
    "\n",
    "#from src.models import model_module_registry\n",
    "#from src.datamodules import datamodule_registry\n",
    "#from src.utils.task_processor_utils import exp_type_to_model_module_mapper, exp_type_to_data_module_mapper, get_trainer_args\n",
    "#from src.utils.trainer_utils import get_wandb_logger, get_checkpoint_callback"
   ]
  },
  {
   "cell_type": "code",
   "execution_count": null,
   "id": "50b8c083-35fd-4ece-9e7e-54d45321a276",
   "metadata": {},
   "outputs": [],
   "source": []
  },
  {
   "cell_type": "code",
   "execution_count": null,
   "id": "0190497b-ba82-4602-9555-22ed5bb764c3",
   "metadata": {},
   "outputs": [],
   "source": []
  },
  {
   "cell_type": "code",
   "execution_count": null,
   "id": "04b77223-02d5-4ae3-a259-efe10feab7cb",
   "metadata": {},
   "outputs": [],
   "source": [
    "retriever_config = {}\n",
    "retriever_config['dataset_split'] = 'val'\n"
   ]
  },
  {
   "cell_type": "code",
   "execution_count": null,
   "id": "7021f713-e5e3-4049-b8f5-b32c9fcc20c5",
   "metadata": {},
   "outputs": [],
   "source": [
    "dataset = "
   ]
  },
  {
   "cell_type": "code",
   "execution_count": null,
   "id": "3f1bf6c4-0905-43e4-81fd-f4216eb818b8",
   "metadata": {},
   "outputs": [],
   "source": []
  },
  {
   "cell_type": "code",
   "execution_count": null,
   "id": "19447a76-d517-413f-a616-cd8c58c9e499",
   "metadata": {},
   "outputs": [],
   "source": []
  },
  {
   "cell_type": "code",
   "execution_count": null,
   "id": "97e1d32e-b5a6-4f1f-bbe8-89ea714210c3",
   "metadata": {},
   "outputs": [],
   "source": []
  },
  {
   "cell_type": "code",
   "execution_count": null,
   "id": "d0159bdc-5f83-4f57-8f3a-b50db1c07e18",
   "metadata": {},
   "outputs": [],
   "source": []
  },
  {
   "cell_type": "code",
   "execution_count": null,
   "id": "f7347193-c47c-4243-9315-49c562e8980a",
   "metadata": {},
   "outputs": [],
   "source": []
  },
  {
   "cell_type": "code",
   "execution_count": null,
   "id": "771e1b19-f7b1-4df6-a854-1c72c5fd9e29",
   "metadata": {},
   "outputs": [],
   "source": []
  },
  {
   "cell_type": "code",
   "execution_count": null,
   "id": "b6e62eb6-eb57-4945-afa4-b13a4d6f992c",
   "metadata": {},
   "outputs": [],
   "source": []
  },
  {
   "cell_type": "code",
   "execution_count": null,
   "id": "0ee606d2-a76a-4c04-a7a8-e2e4366103be",
   "metadata": {},
   "outputs": [],
   "source": []
  },
  {
   "cell_type": "code",
   "execution_count": null,
   "id": "1c8b1cf7-86fb-477e-9d75-9adbc592c287",
   "metadata": {},
   "outputs": [],
   "source": []
  },
  {
   "cell_type": "code",
   "execution_count": null,
   "id": "74ae2e3f-9f45-4937-9586-bcdca55fb7c3",
   "metadata": {},
   "outputs": [],
   "source": []
  },
  {
   "cell_type": "code",
   "execution_count": null,
   "id": "78d5eb1d-88be-49b3-a23b-1049c2827685",
   "metadata": {},
   "outputs": [],
   "source": []
  },
  {
   "cell_type": "code",
   "execution_count": null,
   "id": "8944d644-d09c-4721-8fb8-a6ba96d74f67",
   "metadata": {},
   "outputs": [],
   "source": []
  },
  {
   "cell_type": "code",
   "execution_count": null,
   "id": "136ebb54-cc12-437e-ac2d-fcb83bce840e",
   "metadata": {},
   "outputs": [],
   "source": []
  },
  {
   "cell_type": "code",
   "execution_count": null,
   "id": "b83e8f57-0c2c-4861-8dac-5c022010c4e6",
   "metadata": {},
   "outputs": [],
   "source": []
  },
  {
   "cell_type": "code",
   "execution_count": null,
   "id": "f4a6c8a4-3748-4cab-95a8-da5e385ca367",
   "metadata": {},
   "outputs": [],
   "source": []
  },
  {
   "cell_type": "code",
   "execution_count": null,
   "id": "85f8325c-8e83-46b9-a98e-d036286fc3f5",
   "metadata": {},
   "outputs": [],
   "source": []
  },
  {
   "cell_type": "code",
   "execution_count": null,
   "id": "f3c0fbbe-4515-46f8-a01a-ce3c37a59571",
   "metadata": {},
   "outputs": [],
   "source": []
  },
  {
   "cell_type": "code",
   "execution_count": null,
   "id": "d4f6d19f-d183-403b-b8e8-a506b981e6de",
   "metadata": {},
   "outputs": [],
   "source": []
  },
  {
   "cell_type": "code",
   "execution_count": null,
   "id": "ba5880ab-1511-413c-9ea2-50be65656520",
   "metadata": {},
   "outputs": [],
   "source": []
  }
 ],
 "metadata": {
  "kernelspec": {
   "display_name": "Python 3 (ipykernel)",
   "language": "python",
   "name": "python3"
  },
  "language_info": {
   "codemirror_mode": {
    "name": "ipython",
    "version": 3
   },
   "file_extension": ".py",
   "mimetype": "text/x-python",
   "name": "python",
   "nbconvert_exporter": "python",
   "pygments_lexer": "ipython3",
   "version": "3.10.14"
  }
 },
 "nbformat": 4,
 "nbformat_minor": 5
}
