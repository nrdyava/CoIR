{
 "cells": [
  {
   "cell_type": "code",
   "execution_count": 1,
   "id": "333f9409-1db5-46dc-88e9-21b8bbfb8cc9",
   "metadata": {},
   "outputs": [],
   "source": [
    "import os\n",
    "import sys\n",
    "import json\n",
    "import faiss\n",
    "import copy\n",
    "import yaml\n",
    "import torch\n",
    "from torch.utils.data import DataLoader\n",
    "from lightning.pytorch import seed_everything\n",
    "from tqdm import tqdm\n",
    "\n",
    "sys.path.append('/local/vondrick/nd2794/CoIR')\n",
    "from src.datasets.lasco_datasets_neg_samp import lasco_dataset_neg_samps"
   ]
  },
  {
   "cell_type": "code",
   "execution_count": null,
   "id": "06a32c16-b218-4a64-9c7e-ec0293cf30ca",
   "metadata": {},
   "outputs": [],
   "source": []
  },
  {
   "cell_type": "code",
   "execution_count": null,
   "id": "ca78d434-d6d9-479e-a097-263ae15344af",
   "metadata": {},
   "outputs": [],
   "source": []
  },
  {
   "cell_type": "code",
   "execution_count": 2,
   "id": "0d1dd009-3827-45d7-a97c-cde8c6485a9b",
   "metadata": {},
   "outputs": [],
   "source": [
    "config  = copy.deepcopy(yaml.safe_load(open('/local/vondrick/nd2794/CoIR/configs/config.yaml', 'r')))"
   ]
  },
  {
   "cell_type": "code",
   "execution_count": null,
   "id": "c1997d83-4c1e-47cf-bcae-72786a49e232",
   "metadata": {},
   "outputs": [],
   "source": []
  },
  {
   "cell_type": "code",
   "execution_count": 10,
   "id": "ae4c13d4-f4b5-4bbb-87ea-2f1f3b5c8c0f",
   "metadata": {},
   "outputs": [],
   "source": [
    "dataset = lasco_dataset_neg_samps(config, 'train')"
   ]
  },
  {
   "cell_type": "code",
   "execution_count": 11,
   "id": "9a6aff26-945a-4d7a-96b1-a0624c024886",
   "metadata": {},
   "outputs": [],
   "source": [
    "corpus_dataloader =  DataLoader(\n",
    "    dataset=dataset, \n",
    "    batch_size=config['dataloader']['batch_size'], \n",
    "    shuffle=config['dataloader']['shuffle'],\n",
    "    num_workers=config['dataloader']['num_workers'], \n",
    "    collate_fn=dataset.collate_fn,\n",
    "    pin_memory=config['dataloader']['pin_memory'],\n",
    "    drop_last=config['dataloader']['drop_last'],\n",
    "    persistent_workers=config['dataloader']['persistent_workers']\n",
    ")"
   ]
  },
  {
   "cell_type": "code",
   "execution_count": null,
   "id": "3c5dcbc1-8fa7-42d9-8552-cc39f7d63f4f",
   "metadata": {},
   "outputs": [],
   "source": []
  },
  {
   "cell_type": "code",
   "execution_count": null,
   "id": "53202c79-1938-4453-9e85-6ea465606a1c",
   "metadata": {},
   "outputs": [],
   "source": []
  },
  {
   "cell_type": "code",
   "execution_count": 12,
   "id": "fb5d97db-8def-4cf2-8e2d-d06e86ea15f3",
   "metadata": {},
   "outputs": [
    {
     "name": "stdout",
     "output_type": "stream",
     "text": [
      "torch.Size([2, 3, 224, 224])\n"
     ]
    }
   ],
   "source": [
    "for batch_idx, batch in enumerate(corpus_dataloader):\n",
    "    print(batch['neg-image']['pixel_values'].shape)\n",
    "    break"
   ]
  },
  {
   "cell_type": "code",
   "execution_count": null,
   "id": "4601c2d0-26b8-4a0b-b4cb-5ed510cb15cf",
   "metadata": {},
   "outputs": [],
   "source": []
  },
  {
   "cell_type": "code",
   "execution_count": null,
   "id": "a49b9f13-5438-4166-b04c-dabc0dffab52",
   "metadata": {},
   "outputs": [],
   "source": []
  },
  {
   "cell_type": "code",
   "execution_count": null,
   "id": "8e9310a4-2bbb-492e-83c9-ac527025510f",
   "metadata": {},
   "outputs": [],
   "source": []
  },
  {
   "cell_type": "code",
   "execution_count": null,
   "id": "ad0c8d81-f3aa-4dc2-9a53-27bd5aa8dfba",
   "metadata": {},
   "outputs": [],
   "source": []
  }
 ],
 "metadata": {
  "kernelspec": {
   "display_name": "Python 3 (ipykernel)",
   "language": "python",
   "name": "python3"
  },
  "language_info": {
   "codemirror_mode": {
    "name": "ipython",
    "version": 3
   },
   "file_extension": ".py",
   "mimetype": "text/x-python",
   "name": "python",
   "nbconvert_exporter": "python",
   "pygments_lexer": "ipython3",
   "version": "3.10.14"
  }
 },
 "nbformat": 4,
 "nbformat_minor": 5
}
