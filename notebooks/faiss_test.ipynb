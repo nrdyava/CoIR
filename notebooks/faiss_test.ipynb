{
 "cells": [
  {
   "cell_type": "code",
   "execution_count": 6,
   "id": "4070eeeac0d719f0",
   "metadata": {},
   "outputs": [],
   "source": [
    "import os\n",
    "import faiss"
   ]
  },
  {
   "cell_type": "code",
   "execution_count": 3,
   "id": "c9f6a60c743a9b52",
   "metadata": {},
   "outputs": [],
   "source": [
    "sys.path.append('/local/vondrick/nd2794/CoIR')"
   ]
  },
  {
   "cell_type": "code",
   "execution_count": null,
   "id": "44578606f43aecc1",
   "metadata": {},
   "outputs": [],
   "source": []
  },
  {
   "cell_type": "code",
   "execution_count": 7,
   "id": "e6b1bca648e4d862",
   "metadata": {},
   "outputs": [],
   "source": [
    "res = faiss.StandardGpuResources()"
   ]
  },
  {
   "cell_type": "code",
   "execution_count": 9,
   "id": "041f671f-52bb-4ca4-ad86-748a57d05187",
   "metadata": {},
   "outputs": [],
   "source": [
    "d = 768"
   ]
  },
  {
   "cell_type": "code",
   "execution_count": 10,
   "id": "7dc14f37168cd681",
   "metadata": {},
   "outputs": [],
   "source": [
    "index_flat = faiss.IndexFlatL2(d)\n",
    "gpu_index_flat = faiss.index_cpu_to_gpu(res, 0, index_flat)"
   ]
  },
  {
   "cell_type": "code",
   "execution_count": null,
   "id": "a3c5d3a4c533e064",
   "metadata": {},
   "outputs": [],
   "source": []
  },
  {
   "cell_type": "code",
   "execution_count": 11,
   "id": "6773de979781b30",
   "metadata": {},
   "outputs": [],
   "source": [
    "ngpus = faiss.get_num_gpus()"
   ]
  },
  {
   "cell_type": "code",
   "execution_count": null,
   "id": "ef0239567f9028ea",
   "metadata": {},
   "outputs": [],
   "source": []
  },
  {
   "cell_type": "code",
   "execution_count": null,
   "id": "7e0d8104-25ab-4fa3-a81e-dfd5015dfe16",
   "metadata": {},
   "outputs": [],
   "source": []
  },
  {
   "cell_type": "code",
   "execution_count": null,
   "id": "b5460b6b-42c9-467c-86d3-878971c0eda5",
   "metadata": {},
   "outputs": [],
   "source": []
  },
  {
   "cell_type": "code",
   "execution_count": null,
   "id": "c96dacf7-d1fd-47d1-b4f3-828a0957e040",
   "metadata": {},
   "outputs": [],
   "source": []
  },
  {
   "cell_type": "code",
   "execution_count": null,
   "id": "42f0c2da-dc38-4de8-bb44-047e778bc973",
   "metadata": {},
   "outputs": [],
   "source": []
  },
  {
   "cell_type": "code",
   "execution_count": null,
   "id": "bba7a383-bce7-4fc7-bf70-9380e39a8c0b",
   "metadata": {},
   "outputs": [],
   "source": []
  },
  {
   "cell_type": "code",
   "execution_count": null,
   "id": "c3cf27d5-ed4d-439b-89a6-f4bc77e9a385",
   "metadata": {},
   "outputs": [],
   "source": []
  },
  {
   "cell_type": "code",
   "execution_count": null,
   "id": "f833c80b761f2290",
   "metadata": {},
   "outputs": [],
   "source": []
  },
  {
   "cell_type": "code",
   "execution_count": null,
   "id": "741ab34f87428bea",
   "metadata": {},
   "outputs": [],
   "source": []
  }
 ],
 "metadata": {
  "kernelspec": {
   "display_name": "Python 3 (ipykernel)",
   "language": "python",
   "name": "python3"
  },
  "language_info": {
   "codemirror_mode": {
    "name": "ipython",
    "version": 3
   },
   "file_extension": ".py",
   "mimetype": "text/x-python",
   "name": "python",
   "nbconvert_exporter": "python",
   "pygments_lexer": "ipython3",
   "version": "3.10.14"
  }
 },
 "nbformat": 4,
 "nbformat_minor": 5
}
