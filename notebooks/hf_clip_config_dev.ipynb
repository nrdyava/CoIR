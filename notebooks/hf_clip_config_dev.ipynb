{
 "cells": [
  {
   "cell_type": "code",
   "execution_count": 17,
   "id": "0a4fb70b-47be-4e0d-888d-3392a919d270",
   "metadata": {},
   "outputs": [],
   "source": [
    "from transformers import CLIPVisionConfig, CLIPTextConfig, CLIPVisionModelWithProjection, CLIPTextModelWithProjection"
   ]
  },
  {
   "cell_type": "code",
   "execution_count": null,
   "id": "c79e61d4-adf4-4ca0-a435-fa9067cc6f63",
   "metadata": {},
   "outputs": [],
   "source": []
  },
  {
   "cell_type": "code",
   "execution_count": 18,
   "id": "e18b8cc7-758f-42c5-9134-7ae7f8ddec7e",
   "metadata": {},
   "outputs": [],
   "source": [
    "vision_config = CLIPVisionConfig.from_pretrained(pretrained_model_name_or_path = '/proj/vondrick2/naveen/pretrained_models/clip/clip-vit-large-patch14-336', local_files_only = True)\n",
    "text_config = CLIPTextConfig.from_pretrained(pretrained_model_name_or_path = '/proj/vondrick2/naveen/pretrained_models/clip/clip-vit-large-patch14-336', local_files_only = True)"
   ]
  },
  {
   "cell_type": "code",
   "execution_count": null,
   "id": "6b305f0a-ff35-4fb8-b1bc-1ba73a1cc41e",
   "metadata": {},
   "outputs": [],
   "source": []
  },
  {
   "cell_type": "code",
   "execution_count": 19,
   "id": "867759e5-fdc0-496d-8a81-5ac84cff84df",
   "metadata": {},
   "outputs": [],
   "source": [
    "vision_model = CLIPVisionModelWithProjection(vision_config)"
   ]
  },
  {
   "cell_type": "code",
   "execution_count": 21,
   "id": "751c2f80-0c0e-4d38-9cb7-acf38c617500",
   "metadata": {},
   "outputs": [],
   "source": [
    "text_model = CLIPTextModelWithProjection(text_config)"
   ]
  },
  {
   "cell_type": "code",
   "execution_count": null,
   "id": "b47945c5-1fe0-4bd7-973a-8b38d083b036",
   "metadata": {},
   "outputs": [],
   "source": []
  },
  {
   "cell_type": "code",
   "execution_count": null,
   "id": "647f055d-f587-41a7-9ac4-d288c2473c7b",
   "metadata": {},
   "outputs": [],
   "source": []
  },
  {
   "cell_type": "code",
   "execution_count": null,
   "id": "22b9bfa3-6bde-411e-ad40-2aca5263b42f",
   "metadata": {},
   "outputs": [],
   "source": []
  },
  {
   "cell_type": "code",
   "execution_count": null,
   "id": "46799908-4348-469b-bbfd-ff4d4bd94580",
   "metadata": {},
   "outputs": [],
   "source": []
  },
  {
   "cell_type": "code",
   "execution_count": null,
   "id": "b741e433-cda2-4f53-9a62-5263e16ca1aa",
   "metadata": {},
   "outputs": [],
   "source": []
  },
  {
   "cell_type": "code",
   "execution_count": null,
   "id": "515e8a7c-d4f3-4c1c-b89e-dbc35f0ca19b",
   "metadata": {},
   "outputs": [],
   "source": []
  },
  {
   "cell_type": "code",
   "execution_count": null,
   "id": "3b4e49bc-d15a-427e-a262-2bdccc5d5b71",
   "metadata": {},
   "outputs": [],
   "source": []
  },
  {
   "cell_type": "code",
   "execution_count": null,
   "id": "154b5511-8e26-44d5-9358-966901de2622",
   "metadata": {},
   "outputs": [],
   "source": []
  },
  {
   "cell_type": "code",
   "execution_count": null,
   "id": "bfa918de-ea0b-4527-9ed8-e7a410deb887",
   "metadata": {},
   "outputs": [],
   "source": []
  },
  {
   "cell_type": "code",
   "execution_count": null,
   "id": "bde6b7ae-7471-4086-a6bf-670467e07476",
   "metadata": {},
   "outputs": [],
   "source": []
  },
  {
   "cell_type": "code",
   "execution_count": null,
   "id": "8a9720da-c71c-43ea-986f-c248fc012faf",
   "metadata": {},
   "outputs": [],
   "source": []
  },
  {
   "cell_type": "code",
   "execution_count": null,
   "id": "34fbcdd2-6084-4535-9070-5453760c91ac",
   "metadata": {},
   "outputs": [],
   "source": []
  },
  {
   "cell_type": "code",
   "execution_count": null,
   "id": "9c6991d8-6d0b-4ad7-bea3-d34fa3bacec7",
   "metadata": {},
   "outputs": [],
   "source": []
  },
  {
   "cell_type": "code",
   "execution_count": null,
   "id": "201a6723-e450-4882-8d4a-b015630cad5e",
   "metadata": {},
   "outputs": [],
   "source": []
  },
  {
   "cell_type": "code",
   "execution_count": null,
   "id": "0a8cad98-ffbc-45ef-8073-d6018edadd31",
   "metadata": {},
   "outputs": [],
   "source": []
  },
  {
   "cell_type": "code",
   "execution_count": null,
   "id": "4347954c-b9ef-4984-ad0e-09b362e792d2",
   "metadata": {},
   "outputs": [],
   "source": []
  },
  {
   "cell_type": "code",
   "execution_count": null,
   "id": "ad7a7a6c-ee3d-4fc9-b496-536f86918d9f",
   "metadata": {},
   "outputs": [],
   "source": [
    "\n"
   ]
  }
 ],
 "metadata": {
  "kernelspec": {
   "display_name": "Python 3 (ipykernel)",
   "language": "python",
   "name": "python3"
  },
  "language_info": {
   "codemirror_mode": {
    "name": "ipython",
    "version": 3
   },
   "file_extension": ".py",
   "mimetype": "text/x-python",
   "name": "python",
   "nbconvert_exporter": "python",
   "pygments_lexer": "ipython3",
   "version": "3.10.14"
  }
 },
 "nbformat": 4,
 "nbformat_minor": 5
}
