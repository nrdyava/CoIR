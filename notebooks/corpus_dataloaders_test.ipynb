{
 "cells": [
  {
   "cell_type": "code",
   "execution_count": 7,
   "id": "4070eeeac0d719f0",
   "metadata": {},
   "outputs": [],
   "source": [
    "import os\n",
    "import sys\n",
    "import json\n",
    "import faiss\n",
    "import copy\n",
    "import yaml\n",
    "import torch\n",
    "from torch.utils.data import DataLoader\n",
    "from lightning.pytorch import seed_everything\n",
    "from tqdm import tqdm\n",
    "\n",
    "sys.path.append('/local/vondrick/nd2794/CoIR')\n",
    "from src.datasets.lasco_datasets import lasco_corpus_dataset"
   ]
  },
  {
   "cell_type": "code",
   "execution_count": null,
   "id": "3cebf2bb-a633-42a6-8c80-b758bd20acfb",
   "metadata": {},
   "outputs": [],
   "source": []
  },
  {
   "cell_type": "code",
   "execution_count": 2,
   "id": "c9f6a60c743a9b52",
   "metadata": {},
   "outputs": [],
   "source": [
    "config  = copy.deepcopy(yaml.safe_load(open('/local/vondrick/nd2794/CoIR/configs/retriever_config.yaml', 'r')))"
   ]
  },
  {
   "cell_type": "code",
   "execution_count": null,
   "id": "e6798bb7-2a0d-4682-b24c-28fa316ef247",
   "metadata": {},
   "outputs": [],
   "source": []
  },
  {
   "cell_type": "code",
   "execution_count": 3,
   "id": "c96dacf7-d1fd-47d1-b4f3-828a0957e040",
   "metadata": {},
   "outputs": [
    {
     "name": "stderr",
     "output_type": "stream",
     "text": [
      "Seed set to 42\n"
     ]
    },
    {
     "data": {
      "text/plain": [
       "42"
      ]
     },
     "execution_count": 3,
     "metadata": {},
     "output_type": "execute_result"
    }
   ],
   "source": [
    "os.environ['TOKENIZERS_PARALLELISM'] = config['TOKENIZERS_PARALLELISM']\n",
    "os.environ['CUDA_LAUNCH_BLOCKING'] = config['CUDA_LAUNCH_BLOCKING']\n",
    "os.environ['TORCH_USE_CUDA_DS'] = config['TORCH_USE_CUDA_DS']\n",
    "torch.set_float32_matmul_precision(config['float32_matmul_precision'])\n",
    "\n",
    "# sets seeds for numpy, torch and python.random.\n",
    "seed_everything(config['seed'], workers=True)"
   ]
  },
  {
   "cell_type": "code",
   "execution_count": null,
   "id": "42f0c2da-dc38-4de8-bb44-047e778bc973",
   "metadata": {},
   "outputs": [],
   "source": []
  },
  {
   "cell_type": "code",
   "execution_count": null,
   "id": "bba7a383-bce7-4fc7-bf70-9380e39a8c0b",
   "metadata": {},
   "outputs": [],
   "source": []
  },
  {
   "cell_type": "code",
   "execution_count": 4,
   "id": "c3cf27d5-ed4d-439b-89a6-f4bc77e9a385",
   "metadata": {},
   "outputs": [
    {
     "name": "stderr",
     "output_type": "stream",
     "text": [
      "/local/vondrick/nd2794/miniconda3/envs/coir-clip/lib/python3.10/site-packages/transformers/tokenization_utils_base.py:1601: FutureWarning: `clean_up_tokenization_spaces` was not set. It will be set to `True` by default. This behavior will be depracted in transformers v4.45, and will be then set to `False` by default. For more details check this issue: https://github.com/huggingface/transformers/issues/31884\n",
      "  warnings.warn(\n"
     ]
    }
   ],
   "source": [
    "corpus_dataset = lasco_corpus_dataset(config)\n",
    "\n",
    "corpus_dataloader =  DataLoader(\n",
    "    dataset=corpus_dataset, \n",
    "    batch_size=config['dataloader']['batch_size'], \n",
    "    shuffle=config['dataloader']['shuffle'],\n",
    "    num_workers=config['dataloader']['num_workers'], \n",
    "    collate_fn=corpus_dataset.collate_fn,\n",
    "    pin_memory=config['dataloader']['pin_memory'],\n",
    "    drop_last=config['dataloader']['drop_last'],\n",
    "    persistent_workers=config['dataloader']['persistent_workers']\n",
    ")"
   ]
  },
  {
   "cell_type": "code",
   "execution_count": null,
   "id": "d68601a2-2de8-4083-8ab0-7e7e71a4a9ec",
   "metadata": {},
   "outputs": [],
   "source": []
  },
  {
   "cell_type": "code",
   "execution_count": 6,
   "id": "c603617c-2678-4b78-a51d-53ab120ed574",
   "metadata": {},
   "outputs": [
    {
     "name": "stdout",
     "output_type": "stream",
     "text": [
      "[158307, 89462]\n",
      "torch.Size([2, 3, 224, 224])\n"
     ]
    }
   ],
   "source": [
    "cnt = 0\n",
    "for batch_idx, batch in enumerate(corpus_dataloader):\n",
    "    cnt += len(batch['image-key'])\n",
    "print(\"total samples loaded by the data loader: {}\".format(cnt))"
   ]
  },
  {
   "cell_type": "code",
   "execution_count": null,
   "id": "e31e8c08-bb07-44ce-8747-33a6ff06a72c",
   "metadata": {},
   "outputs": [],
   "source": []
  },
  {
   "cell_type": "code",
   "execution_count": null,
   "id": "7dd85af9-4788-4772-8189-63ce709735b4",
   "metadata": {},
   "outputs": [],
   "source": []
  },
  {
   "cell_type": "code",
   "execution_count": null,
   "id": "97b08497-2fa4-4f75-81e2-aca426810301",
   "metadata": {},
   "outputs": [],
   "source": []
  },
  {
   "cell_type": "code",
   "execution_count": null,
   "id": "c9595e59-cceb-4030-96ff-74e2f3ef4fea",
   "metadata": {},
   "outputs": [],
   "source": []
  },
  {
   "cell_type": "code",
   "execution_count": null,
   "id": "2892b44c-12f6-488d-b04f-c48a9436596e",
   "metadata": {},
   "outputs": [],
   "source": []
  },
  {
   "cell_type": "code",
   "execution_count": null,
   "id": "9ac962eb-3fea-48ad-8eac-4c6f7728db34",
   "metadata": {},
   "outputs": [],
   "source": []
  },
  {
   "cell_type": "code",
   "execution_count": null,
   "id": "b80bc186-4444-4cde-b533-194b5a2f5af1",
   "metadata": {},
   "outputs": [],
   "source": []
  },
  {
   "cell_type": "code",
   "execution_count": null,
   "id": "a6e25c34-b60d-41bf-9c56-26c76e5f4687",
   "metadata": {},
   "outputs": [],
   "source": []
  },
  {
   "cell_type": "code",
   "execution_count": null,
   "id": "85dc26d7-a142-449e-8b03-8256699b58ac",
   "metadata": {},
   "outputs": [],
   "source": []
  },
  {
   "cell_type": "code",
   "execution_count": null,
   "id": "2214a4fe-2231-4e42-a300-92bf7aa2b778",
   "metadata": {},
   "outputs": [],
   "source": []
  },
  {
   "cell_type": "code",
   "execution_count": null,
   "id": "28e9a59d-36cc-43a9-a352-6c3d0238edac",
   "metadata": {},
   "outputs": [],
   "source": []
  },
  {
   "cell_type": "code",
   "execution_count": null,
   "id": "16fd75bc-9ed4-43bb-b6d2-bbfa971aa299",
   "metadata": {},
   "outputs": [],
   "source": []
  },
  {
   "cell_type": "code",
   "execution_count": null,
   "id": "6fd66ced-2d84-401d-90e2-4591f49ba096",
   "metadata": {},
   "outputs": [],
   "source": []
  },
  {
   "cell_type": "code",
   "execution_count": null,
   "id": "16fa4a8a-f3b2-4339-8840-467710993b9c",
   "metadata": {},
   "outputs": [],
   "source": []
  }
 ],
 "metadata": {
  "kernelspec": {
   "display_name": "Python 3 (ipykernel)",
   "language": "python",
   "name": "python3"
  },
  "language_info": {
   "codemirror_mode": {
    "name": "ipython",
    "version": 3
   },
   "file_extension": ".py",
   "mimetype": "text/x-python",
   "name": "python",
   "nbconvert_exporter": "python",
   "pygments_lexer": "ipython3",
   "version": "3.10.14"
  }
 },
 "nbformat": 4,
 "nbformat_minor": 5
}
