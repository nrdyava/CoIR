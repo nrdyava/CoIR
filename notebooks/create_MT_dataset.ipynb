{
 "cells": [
  {
   "cell_type": "code",
   "execution_count": 1,
   "id": "6b5d011c-9513-4c92-b7e6-9325c0aca4a8",
   "metadata": {},
   "outputs": [],
   "source": [
    "import os \n",
    "import json\n",
    "import random"
   ]
  },
  {
   "cell_type": "code",
   "execution_count": 2,
   "id": "cf96b458-e58f-4e32-83bb-772d34e8682c",
   "metadata": {},
   "outputs": [],
   "source": [
    "#'coco/val2014/COCO_val2014_000000306889.jpg' + + x['img_cap']['image-id']"
   ]
  },
  {
   "cell_type": "code",
   "execution_count": 3,
   "id": "abddf31d-8737-497e-bd04-21877cd6735c",
   "metadata": {},
   "outputs": [],
   "source": [
    "root = '/proj/vondrick4/naveen/coir-data'"
   ]
  },
  {
   "cell_type": "code",
   "execution_count": 4,
   "id": "dcc93228-3e76-45c7-b15f-4bd54ab2d598",
   "metadata": {},
   "outputs": [
    {
     "data": {
      "text/plain": [
       "['FashionIQ', 'CIRR', 'CIRCO', 'annotations', 'LaSCo']"
      ]
     },
     "execution_count": 4,
     "metadata": {},
     "output_type": "execute_result"
    }
   ],
   "source": [
    "os.listdir(root)"
   ]
  },
  {
   "cell_type": "markdown",
   "id": "b1e63dc5-69b2-440f-b2d6-98d783222255",
   "metadata": {},
   "source": [
    "## Train Data"
   ]
  },
  {
   "cell_type": "code",
   "execution_count": 5,
   "id": "57327d46-529c-49ec-b54b-38d646728edb",
   "metadata": {},
   "outputs": [],
   "source": [
    "lasco_train = json.load(open(os.path.join(root, 'LaSCo', 'metadata', 'lasco_train_indexed.json'), 'r'))"
   ]
  },
  {
   "cell_type": "code",
   "execution_count": 6,
   "id": "376f02a9-f6f2-4e81-afe9-d2fb3e524deb",
   "metadata": {},
   "outputs": [
    {
     "data": {
      "text/plain": [
       "359268"
      ]
     },
     "execution_count": 6,
     "metadata": {},
     "output_type": "execute_result"
    }
   ],
   "source": [
    "len(lasco_train)"
   ]
  },
  {
   "cell_type": "code",
   "execution_count": 7,
   "id": "39731d8b-76a2-4af1-b9e2-ecf0a80600db",
   "metadata": {},
   "outputs": [
    {
     "data": {
      "text/plain": [
       "{'query-image-id': 158307,\n",
       " 'query-image-path': 'coco/train2014/COCO_train2014_000000158307.jpg',\n",
       " 'target-image-id': 89462,\n",
       " 'target-image-path': 'coco/train2014/COCO_train2014_000000089462.jpg',\n",
       " 'query-text': 'Six people on the hill',\n",
       " 'id': 0}"
      ]
     },
     "execution_count": 7,
     "metadata": {},
     "output_type": "execute_result"
    }
   ],
   "source": [
    "lasco_train[0]"
   ]
  },
  {
   "cell_type": "code",
   "execution_count": null,
   "id": "5933e8dd-063b-4eb4-988c-4976482a9915",
   "metadata": {},
   "outputs": [],
   "source": []
  },
  {
   "cell_type": "code",
   "execution_count": 8,
   "id": "581e6d64-5849-4083-aed7-52f23ef5df94",
   "metadata": {},
   "outputs": [],
   "source": [
    "train_images_and_caps = json.load(open(\"/proj/vondrick4/naveen/coir-data/annotations/images_and_caps_train2014.json\", 'r'))"
   ]
  },
  {
   "cell_type": "code",
   "execution_count": 9,
   "id": "a092c26a-c635-4199-a41a-0d889dc857ea",
   "metadata": {
    "scrolled": true
   },
   "outputs": [
    {
     "data": {
      "text/plain": [
       "359268"
      ]
     },
     "execution_count": 9,
     "metadata": {},
     "output_type": "execute_result"
    }
   ],
   "source": [
    "len(train_images_and_caps)"
   ]
  },
  {
   "cell_type": "code",
   "execution_count": 10,
   "id": "d27cf741-5c7a-4f54-a17f-676e5ba5dc03",
   "metadata": {},
   "outputs": [
    {
     "data": {
      "text/plain": [
       "{'image-id': 355737,\n",
       " 'caption': 'People walking down the street holding signs by a traffic light.',\n",
       " 'id': 0}"
      ]
     },
     "execution_count": 10,
     "metadata": {},
     "output_type": "execute_result"
    }
   ],
   "source": [
    "train_images_and_caps[0]"
   ]
  },
  {
   "cell_type": "code",
   "execution_count": null,
   "id": "e7c51466-5cb0-494d-9b17-3232cc75a7ed",
   "metadata": {},
   "outputs": [],
   "source": []
  },
  {
   "cell_type": "code",
   "execution_count": 11,
   "id": "69779cf9-636f-4a49-99c9-7858f6f0a3a0",
   "metadata": {},
   "outputs": [
    {
     "data": {
      "text/plain": [
       "359268"
      ]
     },
     "execution_count": 11,
     "metadata": {},
     "output_type": "execute_result"
    }
   ],
   "source": [
    "train_images_and_caps = train_images_and_caps[:len(lasco_train)]\n",
    "len(train_images_and_caps)"
   ]
  },
  {
   "cell_type": "code",
   "execution_count": null,
   "id": "59eacc2a-0d1f-418f-8d22-8d5d176210f4",
   "metadata": {},
   "outputs": [],
   "source": []
  },
  {
   "cell_type": "code",
   "execution_count": 12,
   "id": "a42e6a48-b11e-460f-94d0-13480f8ed508",
   "metadata": {},
   "outputs": [],
   "source": [
    "train_mt_data = []\n",
    "id_ = 0\n",
    "for coir, img_cap in zip(lasco_train, train_images_and_caps):\n",
    "    num = img_cap['image-id']\n",
    "    train_mt_data.append({\n",
    "        'coir': {\n",
    "            'query-image-id': coir['query-image-id'],\n",
    "            'query-image-path': coir['query-image-path'],\n",
    "            'target-image-id': coir['target-image-id'],\n",
    "            'target-image-path': coir['target-image-path'],\n",
    "            'query-text': coir['query-text']\n",
    "        }, \n",
    "        'img_cap': {\n",
    "            'image-id': img_cap['image-id'],\n",
    "            'image-path': 'coco/train2014/COCO_train2014_' + f'{num:012d}'+'.jpg',\n",
    "            'caption': img_cap['caption']\n",
    "        },\n",
    "        'id': id_\n",
    "    })\n",
    "    id_ += 1"
   ]
  },
  {
   "cell_type": "code",
   "execution_count": 13,
   "id": "1836a9bb-c57f-443f-8a2c-f6ab8710cfe6",
   "metadata": {
    "scrolled": true
   },
   "outputs": [
    {
     "data": {
      "text/plain": [
       "359268"
      ]
     },
     "execution_count": 13,
     "metadata": {},
     "output_type": "execute_result"
    }
   ],
   "source": [
    "len(train_mt_data)"
   ]
  },
  {
   "cell_type": "code",
   "execution_count": null,
   "id": "1aef4bf2-a897-4453-bdd0-55b88f1425c5",
   "metadata": {},
   "outputs": [],
   "source": []
  },
  {
   "cell_type": "code",
   "execution_count": null,
   "id": "10c74d40-27e3-4804-9dd6-9386dc84bd25",
   "metadata": {},
   "outputs": [],
   "source": [
    "with open(os.path.join(root, 'LaSCo', 'metadata', 'lasco_train_indexed_MT(img_cap).json'), 'w') as f:\n",
    "    json.dump(train_mt_data, f, indent=4)"
   ]
  },
  {
   "cell_type": "code",
   "execution_count": null,
   "id": "227a6860-eedd-4b31-8cd7-5ba59710c328",
   "metadata": {},
   "outputs": [],
   "source": []
  },
  {
   "cell_type": "code",
   "execution_count": null,
   "id": "ae3bda89-eb13-4cd1-aca0-c159b97465c0",
   "metadata": {},
   "outputs": [],
   "source": []
  },
  {
   "cell_type": "code",
   "execution_count": null,
   "id": "bc806d3a-2751-47da-ad43-487bb63010e8",
   "metadata": {},
   "outputs": [],
   "source": []
  },
  {
   "cell_type": "code",
   "execution_count": null,
   "id": "14c25f6a-aae9-494e-a5b9-120168ed410f",
   "metadata": {},
   "outputs": [],
   "source": []
  },
  {
   "cell_type": "code",
   "execution_count": null,
   "id": "5e70728e-941e-4486-a9db-bc0deccacab0",
   "metadata": {},
   "outputs": [],
   "source": []
  }
 ],
 "metadata": {
  "kernelspec": {
   "display_name": "Python 3 (ipykernel)",
   "language": "python",
   "name": "python3"
  },
  "language_info": {
   "codemirror_mode": {
    "name": "ipython",
    "version": 3
   },
   "file_extension": ".py",
   "mimetype": "text/x-python",
   "name": "python",
   "nbconvert_exporter": "python",
   "pygments_lexer": "ipython3",
   "version": "3.10.14"
  }
 },
 "nbformat": 4,
 "nbformat_minor": 5
}
