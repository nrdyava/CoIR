{
 "cells": [
  {
   "cell_type": "code",
   "execution_count": 34,
   "id": "6d0897c3-9bc1-43c1-a5bd-7728a25e7c87",
   "metadata": {},
   "outputs": [],
   "source": [
    "import os\n",
    "import sys\n",
    "import json\n",
    "import faiss\n",
    "import copy\n",
    "import yaml\n",
    "import torch\n",
    "import numpy as np\n",
    "from torch.utils.data import DataLoader\n",
    "from lightning.pytorch import seed_everything\n",
    "from tqdm import tqdm\n",
    "\n",
    "sys.path.append('/local/vondrick/nd2794/CoIR')\n",
    "from src.datasets.lasco_datasets_inbatch import lasco_dataset_inbatch\n",
    "from src.datamodules.lasco_data_module_inbatch import LASCODataModuleINBATCH"
   ]
  },
  {
   "cell_type": "code",
   "execution_count": null,
   "id": "4f748caa-f77f-4461-9fbd-10914cd650d3",
   "metadata": {},
   "outputs": [],
   "source": []
  },
  {
   "cell_type": "code",
   "execution_count": 2,
   "id": "046742fa-aee0-431b-9fd8-ce1190ff7880",
   "metadata": {},
   "outputs": [],
   "source": [
    "config  = copy.deepcopy(yaml.safe_load(open('/local/vondrick/nd2794/CoIR/configs/config_inbatch.yaml', 'r')))"
   ]
  },
  {
   "cell_type": "code",
   "execution_count": null,
   "id": "550660ee-fe28-4614-9b76-711fedd9a79c",
   "metadata": {},
   "outputs": [],
   "source": []
  },
  {
   "cell_type": "code",
   "execution_count": 3,
   "id": "dfaeb229-1572-4007-8c0c-662b0a356817",
   "metadata": {},
   "outputs": [],
   "source": [
    "datamodule = LASCODataModuleINBATCH(config)"
   ]
  },
  {
   "cell_type": "code",
   "execution_count": 4,
   "id": "5eccff2f-4090-49c7-bb47-0cdf8958c9bb",
   "metadata": {},
   "outputs": [
    {
     "name": "stderr",
     "output_type": "stream",
     "text": [
      "/local/vondrick/nd2794/miniconda3/envs/coir-clip/lib/python3.10/site-packages/transformers/tokenization_utils_base.py:1601: FutureWarning: `clean_up_tokenization_spaces` was not set. It will be set to `True` by default. This behavior will be depracted in transformers v4.45, and will be then set to `False` by default. For more details check this issue: https://github.com/huggingface/transformers/issues/31884\n",
      "  warnings.warn(\n"
     ]
    }
   ],
   "source": [
    "datamodule.setup('fit')"
   ]
  },
  {
   "cell_type": "code",
   "execution_count": null,
   "id": "8aad23fb-4a18-49a6-95b1-d1c4e86bd64d",
   "metadata": {},
   "outputs": [],
   "source": []
  },
  {
   "cell_type": "code",
   "execution_count": null,
   "id": "90f857b5-c694-4cfb-b145-8501fe9344e4",
   "metadata": {},
   "outputs": [],
   "source": []
  },
  {
   "cell_type": "code",
   "execution_count": null,
   "id": "c612e441-cd9a-477d-bcec-cd63c8d1848e",
   "metadata": {},
   "outputs": [],
   "source": []
  },
  {
   "cell_type": "code",
   "execution_count": null,
   "id": "b31bc9aa-d6c7-4599-930b-5cf0d6a01feb",
   "metadata": {},
   "outputs": [],
   "source": [
    "dataset = lasco_dataset_inbatch(config, 'val')\n",
    "\n",
    "corpus_dataloader =  DataLoader(\n",
    "    dataset=dataset, \n",
    "    batch_size=2, \n",
    "    shuffle=config['dataloader']['shuffle'],\n",
    "    num_workers=config['dataloader']['num_workers'], \n",
    "    collate_fn=dataset.collate_fn,\n",
    "    pin_memory=config['dataloader']['pin_memory'],\n",
    "    drop_last=config['dataloader']['drop_last'],\n",
    "    persistent_workers=config['dataloader']['persistent_workers']\n",
    ")"
   ]
  },
  {
   "cell_type": "code",
   "execution_count": null,
   "id": "e68e71b7-f289-4492-bcbd-85bf0fa577a2",
   "metadata": {},
   "outputs": [],
   "source": [
    "%%time\n",
    "for batch_idx, batch in enumerate(corpus_dataloader):\n",
    "    print(batch['query-image-id'])\n",
    "    print(batch['query-image']['pixel_values'].shape)\n",
    "    print(batch['target-image-id'])\n",
    "    print(batch['target-image']['pixel_values'].shape)\n",
    "    print(batch['query-text']['input_ids'].shape)\n",
    "    break"
   ]
  },
  {
   "cell_type": "code",
   "execution_count": null,
   "id": "72c0db46-c60b-47f1-8469-cb58c9ed3194",
   "metadata": {},
   "outputs": [],
   "source": []
  },
  {
   "cell_type": "code",
   "execution_count": 5,
   "id": "5e683aae-3333-49b4-aae9-d8744db1d5eb",
   "metadata": {},
   "outputs": [],
   "source": [
    "train_dataloader = datamodule.train_dataloader()\n",
    "val_dataloader = datamodule.val_dataloader()"
   ]
  },
  {
   "cell_type": "code",
   "execution_count": 11,
   "id": "de42984d-999c-438b-bfd9-0e9470c3a0c3",
   "metadata": {},
   "outputs": [
    {
     "name": "stdout",
     "output_type": "stream",
     "text": [
      "[318114, 28714, 546721, 245874, 245874, 436127, 271639, 271639, 37846, 28714, 136795, 136795, 136795, 37846, 505144, 505144, 252294, 252294, 420339, 547783, 547783, 547783, 82933, 424333, 424333, 469174, 503600, 77628, 77628, 77628]\n",
      "torch.Size([30, 3, 224, 224])\n",
      "[306889, 426166, 513115, 515660, 50829, 208549, 283217, 201561, 412966, 277005, 430469, 479448, 508443, 228135, 485799, 485799, 311374, 405183, 412975, 130527, 443583, 382399, 526044, 432647, 224724, 493102, 404145, 562356, 222370, 562356]\n",
      "torch.Size([30, 3, 224, 224])\n",
      "torch.Size([30, 12])\n",
      "torch.Size([30, 12])\n",
      "CPU times: user 15.2 ms, sys: 4.93 ms, total: 20.1 ms\n",
      "Wall time: 1.73 s\n"
     ]
    }
   ],
   "source": [
    "%%time\n",
    "for batch_idx, batch in enumerate(val_dataloader ):\n",
    "    print(batch['query-image-id'])\n",
    "    print(batch['query-image']['pixel_values'].shape)\n",
    "    print(batch['target-image-id'])\n",
    "    print(batch['target-image']['pixel_values'].shape)\n",
    "    print(batch['query-text']['input_ids'].shape)\n",
    "    print(batch['query-text']['attention_mask'].shape)\n",
    "    break"
   ]
  },
  {
   "cell_type": "code",
   "execution_count": null,
   "id": "9463f315-dc64-4491-9b8e-7578492602fd",
   "metadata": {},
   "outputs": [],
   "source": []
  },
  {
   "cell_type": "code",
   "execution_count": null,
   "id": "927d8780-8058-4fdf-aa75-a2d5b496d2eb",
   "metadata": {},
   "outputs": [],
   "source": []
  },
  {
   "cell_type": "markdown",
   "id": "931ddbfc-b70e-421f-97c4-caa96714ea59",
   "metadata": {},
   "source": [
    "## Load the model"
   ]
  },
  {
   "cell_type": "code",
   "execution_count": 13,
   "id": "ffff2188-c3d2-44ea-b951-1b69039f9a81",
   "metadata": {},
   "outputs": [],
   "source": [
    "from src.models.clip.clip_inbatch import CLIPModelINBATCH"
   ]
  },
  {
   "cell_type": "code",
   "execution_count": 17,
   "id": "145b49e0-4b51-4cb0-92ea-65db4d11f206",
   "metadata": {},
   "outputs": [],
   "source": [
    "model = CLIPModelINBATCH(config)"
   ]
  },
  {
   "cell_type": "code",
   "execution_count": 18,
   "id": "ff1c8e1a-ac4d-4498-b64c-97c42d30dcd1",
   "metadata": {},
   "outputs": [
    {
     "name": "stdout",
     "output_type": "stream",
     "text": [
      " \n"
     ]
    }
   ],
   "source": [
    "model\n",
    "print(\" \")"
   ]
  },
  {
   "cell_type": "code",
   "execution_count": null,
   "id": "bd996c2a-41de-44af-8cb1-aa8519e17e36",
   "metadata": {},
   "outputs": [],
   "source": []
  },
  {
   "cell_type": "code",
   "execution_count": 19,
   "id": "be3d53d5-683f-440c-b08e-0fa7799f80ff",
   "metadata": {},
   "outputs": [
    {
     "name": "stdout",
     "output_type": "stream",
     "text": [
      "CPU times: user 32.8 s, sys: 8.9 s, total: 41.7 s\n",
      "Wall time: 2.41 s\n"
     ]
    }
   ],
   "source": [
    "%%time\n",
    "for batch_idx, batch in enumerate(train_dataloader):\n",
    "    #batch['query-image']['pixel_values'].to('cuda:0')\n",
    "    #batch['target-image']['pixel_values'].to('cuda:0')\n",
    "    #batch['query-text']['input_ids'].to('cuda:0')\n",
    "    #batch['query-text']['attention_mask'].to('cuda:0')\n",
    "    \n",
    "    outs = model.forward(batch)\n",
    "    \n",
    "    break"
   ]
  },
  {
   "cell_type": "code",
   "execution_count": null,
   "id": "9ffc6ef6-4383-4c17-90eb-84ae09667a0b",
   "metadata": {},
   "outputs": [],
   "source": []
  },
  {
   "cell_type": "code",
   "execution_count": 20,
   "id": "7de36930-f0bc-417d-a57d-3af6d81d23a4",
   "metadata": {},
   "outputs": [
    {
     "data": {
      "text/plain": [
       "{'query_image_embeds': tensor([[-5.2605e-03,  3.9427e-02,  3.0648e-02,  ...,  7.0527e-02,\n",
       "          -3.1308e-02, -1.2429e-02],\n",
       "         [-1.4792e-02, -3.0441e-02, -2.0111e-02,  ...,  3.2865e-02,\n",
       "          -1.3410e-02, -9.9991e-03],\n",
       "         [-1.9430e-02,  2.5124e-03, -1.9967e-02,  ...,  6.1337e-02,\n",
       "          -4.4695e-05, -7.4703e-03],\n",
       "         ...,\n",
       "         [ 5.5767e-02, -1.0665e-02, -3.8368e-02,  ...,  2.4470e-02,\n",
       "           3.4702e-03,  5.1626e-02],\n",
       "         [-1.4817e-02,  7.0236e-03, -1.4444e-02,  ...,  1.2696e-01,\n",
       "           9.4681e-03, -1.8979e-02],\n",
       "         [-2.0481e-02,  6.2025e-03, -2.0419e-02,  ...,  6.9607e-02,\n",
       "          -1.1671e-02, -6.7372e-03]], grad_fn=<DivBackward0>),\n",
       " 'target_image_embeds': tensor([[-0.0017,  0.0273,  0.0187,  ...,  0.1060,  0.0158,  0.0092],\n",
       "         [-0.0176, -0.0148, -0.0185,  ...,  0.0122, -0.0028,  0.0291],\n",
       "         [ 0.0417,  0.0276,  0.0187,  ...,  0.0628,  0.0407, -0.0021],\n",
       "         ...,\n",
       "         [-0.0421,  0.0349, -0.0252,  ...,  0.0656, -0.0120,  0.0332],\n",
       "         [ 0.0393, -0.0127,  0.0024,  ...,  0.0442,  0.0172,  0.0458],\n",
       "         [-0.0468,  0.0197,  0.0050,  ...,  0.0476,  0.0307, -0.0109]],\n",
       "        grad_fn=<DivBackward0>),\n",
       " 'query_text_embeds': tensor([[ 0.0131, -0.0020,  0.0086,  ..., -0.0686,  0.0173, -0.0043],\n",
       "         [-0.0192, -0.0073, -0.0231,  ..., -0.0140, -0.0067,  0.0590],\n",
       "         [-0.0124, -0.0054, -0.0066,  ..., -0.0983,  0.0274, -0.0117],\n",
       "         ...,\n",
       "         [ 0.0250,  0.0066,  0.0016,  ..., -0.0220, -0.0168,  0.0087],\n",
       "         [ 0.0429, -0.0182, -0.0381,  ..., -0.0395,  0.0495,  0.0091],\n",
       "         [-0.0263,  0.0241, -0.0085,  ..., -0.0538, -0.0128, -0.0153]],\n",
       "        grad_fn=<DivBackward0>)}"
      ]
     },
     "execution_count": 20,
     "metadata": {},
     "output_type": "execute_result"
    }
   ],
   "source": [
    "outs"
   ]
  },
  {
   "cell_type": "code",
   "execution_count": null,
   "id": "2a4e0426-ced8-4d9a-ba4d-d0410bc88e21",
   "metadata": {},
   "outputs": [],
   "source": []
  },
  {
   "cell_type": "code",
   "execution_count": 25,
   "id": "d961fcaf-9115-4f48-97be-d6b356b1fc12",
   "metadata": {},
   "outputs": [
    {
     "data": {
      "text/plain": [
       "torch.Size([30, 512])"
      ]
     },
     "execution_count": 25,
     "metadata": {},
     "output_type": "execute_result"
    }
   ],
   "source": [
    "query_image_embeds = outs['query_image_embeds']\n",
    "query_image_embeds.shape"
   ]
  },
  {
   "cell_type": "code",
   "execution_count": 26,
   "id": "b1ec78f9-91b0-461d-999f-7514e0efeae5",
   "metadata": {},
   "outputs": [
    {
     "data": {
      "text/plain": [
       "torch.Size([30, 512])"
      ]
     },
     "execution_count": 26,
     "metadata": {},
     "output_type": "execute_result"
    }
   ],
   "source": [
    "target_image_embeds = outs['target_image_embeds']\n",
    "target_image_embeds.shape"
   ]
  },
  {
   "cell_type": "code",
   "execution_count": 27,
   "id": "3e17f1a1-853b-4c76-b7bb-0e71053bb43b",
   "metadata": {},
   "outputs": [
    {
     "data": {
      "text/plain": [
       "torch.Size([30, 512])"
      ]
     },
     "execution_count": 27,
     "metadata": {},
     "output_type": "execute_result"
    }
   ],
   "source": [
    "query_text_embeds = outs['query_text_embeds']\n",
    "query_text_embeds.shape"
   ]
  },
  {
   "cell_type": "code",
   "execution_count": null,
   "id": "fc579449-8662-4b57-9c87-caab79d478dc",
   "metadata": {},
   "outputs": [],
   "source": []
  },
  {
   "cell_type": "code",
   "execution_count": 29,
   "id": "48d84ed1-ce30-4ecc-9a60-0c4c49d64e0a",
   "metadata": {},
   "outputs": [
    {
     "data": {
      "text/plain": [
       "torch.Size([30, 512])"
      ]
     },
     "execution_count": 29,
     "metadata": {},
     "output_type": "execute_result"
    }
   ],
   "source": [
    "target_hat_embeds = query_image_embeds + query_text_embeds\n",
    "target_hat_embeds = target_hat_embeds / torch.linalg.vector_norm(target_hat_embeds, ord=2, dim=1, keepdim=True)\n",
    "target_hat_embeds.shape"
   ]
  },
  {
   "cell_type": "code",
   "execution_count": null,
   "id": "3a7a5fbd-6b7b-49bb-bba7-eae4fec64f74",
   "metadata": {},
   "outputs": [],
   "source": []
  },
  {
   "cell_type": "code",
   "execution_count": 36,
   "id": "676b81df-e23e-4fea-a3a7-219df7afb6f5",
   "metadata": {},
   "outputs": [],
   "source": [
    "logits_per_A = torch.mm(target_hat_embeds, target_image_embeds.t())\n",
    "logits_per_B = torch.mm(target_image_embeds, target_hat_embeds.t())"
   ]
  },
  {
   "cell_type": "code",
   "execution_count": 39,
   "id": "7d4fc8e0-3100-4dd2-a94e-2a81afa4bfae",
   "metadata": {},
   "outputs": [],
   "source": [
    "labels = torch.arange(logits_per_A.size(0), device=logits_per_A.device)"
   ]
  },
  {
   "cell_type": "code",
   "execution_count": null,
   "id": "8b7c949d-2748-4b71-bd2e-f64de7c609e3",
   "metadata": {},
   "outputs": [],
   "source": []
  },
  {
   "cell_type": "code",
   "execution_count": 41,
   "id": "8745627f-f217-4a84-b6a1-c6a22f846668",
   "metadata": {},
   "outputs": [],
   "source": [
    "loss_A = torch.nn.functional.cross_entropy(logits_per_A, labels)\n",
    "loss_B = torch.nn.functional.cross_entropy(logits_per_B, labels)"
   ]
  },
  {
   "cell_type": "code",
   "execution_count": 46,
   "id": "a4f5b204-081a-4e9e-aefb-2260a8bbe75c",
   "metadata": {},
   "outputs": [
    {
     "data": {
      "text/plain": [
       "tensor(3.2303, grad_fn=<DivBackward0>)"
      ]
     },
     "execution_count": 46,
     "metadata": {},
     "output_type": "execute_result"
    }
   ],
   "source": [
    "loss = (loss_A + loss_B) / 2.0\n",
    "loss"
   ]
  },
  {
   "cell_type": "code",
   "execution_count": null,
   "id": "d070f28a-4476-4bc5-9508-fc3a5d1b74c1",
   "metadata": {},
   "outputs": [],
   "source": []
  },
  {
   "cell_type": "code",
   "execution_count": null,
   "id": "df093d6e-d5ff-43fa-beab-9ade76f79e2c",
   "metadata": {},
   "outputs": [],
   "source": []
  },
  {
   "cell_type": "code",
   "execution_count": null,
   "id": "b8ec81fb-3bbc-499b-9147-465e8fd8985a",
   "metadata": {},
   "outputs": [],
   "source": []
  },
  {
   "cell_type": "code",
   "execution_count": 40,
   "id": "32a2d3ea-bf4b-4497-8dbf-6ff6be696657",
   "metadata": {},
   "outputs": [
    {
     "data": {
      "text/plain": [
       "tensor([ 0,  1,  2,  3,  4,  5,  6,  7,  8,  9, 10, 11, 12, 13, 14, 15, 16, 17,\n",
       "        18, 19, 20, 21, 22, 23, 24, 25, 26, 27, 28, 29])"
      ]
     },
     "execution_count": 40,
     "metadata": {},
     "output_type": "execute_result"
    }
   ],
   "source": [
    "labels"
   ]
  },
  {
   "cell_type": "code",
   "execution_count": null,
   "id": "21bd16b3-97be-45e0-84dd-6dcb4056988c",
   "metadata": {},
   "outputs": [],
   "source": []
  },
  {
   "cell_type": "code",
   "execution_count": 31,
   "id": "edd35183-a502-4cc9-9aa0-d344c25c1d43",
   "metadata": {},
   "outputs": [
    {
     "data": {
      "text/plain": [
       "torch.Size([30, 30])"
      ]
     },
     "execution_count": 31,
     "metadata": {},
     "output_type": "execute_result"
    }
   ],
   "source": [
    "dotp_mat = torch.mm(target_hat_embeds, target_image_embeds.t())\n",
    "dotp_mat.shape"
   ]
  },
  {
   "cell_type": "code",
   "execution_count": 35,
   "id": "c306a0a0-2478-49a5-8b7f-18743de207a0",
   "metadata": {},
   "outputs": [
    {
     "data": {
      "text/plain": [
       "array([ 0,  1,  2,  3,  4,  5,  6,  7,  8,  9, 10, 11, 12, 13, 14, 15, 16,\n",
       "       17, 18, 19, 20, 21, 22, 23, 24, 25, 26, 27, 28, 29])"
      ]
     },
     "execution_count": 35,
     "metadata": {},
     "output_type": "execute_result"
    }
   ],
   "source": [
    "np.arange(30)"
   ]
  },
  {
   "cell_type": "code",
   "execution_count": null,
   "id": "7ea3aefc-15cc-474b-9a80-d90dba2a1fd9",
   "metadata": {},
   "outputs": [],
   "source": []
  },
  {
   "cell_type": "code",
   "execution_count": null,
   "id": "08e17cdc-828e-4db4-b6bb-810f39528491",
   "metadata": {},
   "outputs": [],
   "source": []
  },
  {
   "cell_type": "code",
   "execution_count": 32,
   "id": "78127b34-3a71-40f3-9c17-00ceed3a378d",
   "metadata": {
    "scrolled": true
   },
   "outputs": [
    {
     "data": {
      "text/plain": [
       "tensor([[0.6270, 0.4415, 0.4345, 0.4391, 0.4124, 0.2560, 0.3535, 0.4331, 0.3560,\n",
       "         0.2920, 0.4477, 0.4352, 0.3522, 0.4555, 0.4340, 0.4047, 0.4580, 0.4377,\n",
       "         0.4331, 0.3976, 0.3747, 0.4091, 0.4103, 0.4692, 0.3665, 0.3629, 0.4012,\n",
       "         0.4108, 0.3690, 0.4264],\n",
       "        [0.4148, 0.7551, 0.3139, 0.3726, 0.4541, 0.3261, 0.4757, 0.4138, 0.3356,\n",
       "         0.3092, 0.3997, 0.4046, 0.3372, 0.3980, 0.3917, 0.4206, 0.4235, 0.4062,\n",
       "         0.3592, 0.4404, 0.3611, 0.3973, 0.3698, 0.4672, 0.3724, 0.3852, 0.4027,\n",
       "         0.4159, 0.3743, 0.3699],\n",
       "        [0.4894, 0.4009, 0.5321, 0.4418, 0.4498, 0.2858, 0.4127, 0.4471, 0.3860,\n",
       "         0.3197, 0.4270, 0.4535, 0.3594, 0.4670, 0.4797, 0.4187, 0.4538, 0.5104,\n",
       "         0.4502, 0.4521, 0.3450, 0.4125, 0.3811, 0.4937, 0.4038, 0.3660, 0.5092,\n",
       "         0.4199, 0.3792, 0.4299],\n",
       "        [0.5124, 0.4419, 0.4837, 0.5166, 0.4273, 0.2824, 0.4054, 0.4379, 0.4025,\n",
       "         0.3119, 0.5026, 0.5525, 0.3930, 0.5310, 0.4520, 0.4316, 0.5034, 0.4540,\n",
       "         0.5239, 0.5295, 0.4173, 0.5094, 0.4877, 0.4907, 0.4157, 0.4127, 0.4754,\n",
       "         0.4515, 0.4093, 0.4821],\n",
       "        [0.4595, 0.4567, 0.3942, 0.4002, 0.4838, 0.2811, 0.3898, 0.5491, 0.3734,\n",
       "         0.3267, 0.4736, 0.3963, 0.3493, 0.4378, 0.4066, 0.3980, 0.4320, 0.4070,\n",
       "         0.3977, 0.3758, 0.3504, 0.4453, 0.4019, 0.4979, 0.3898, 0.3758, 0.4300,\n",
       "         0.4237, 0.3680, 0.4094],\n",
       "        [0.3394, 0.3435, 0.2844, 0.2981, 0.2995, 0.5142, 0.2260, 0.2988, 0.2779,\n",
       "         0.5594, 0.3914, 0.2972, 0.2460, 0.3222, 0.3088, 0.3230, 0.3906, 0.3158,\n",
       "         0.2808, 0.3306, 0.3477, 0.3166, 0.3494, 0.3370, 0.3402, 0.2795, 0.3150,\n",
       "         0.3064, 0.2996, 0.2609],\n",
       "        [0.4722, 0.5465, 0.3821, 0.4202, 0.5827, 0.2890, 0.5729, 0.4718, 0.4277,\n",
       "         0.3016, 0.4492, 0.4295, 0.4116, 0.4333, 0.4593, 0.4020, 0.4348, 0.4921,\n",
       "         0.3913, 0.4852, 0.3625, 0.3982, 0.3801, 0.5567, 0.4292, 0.4180, 0.4961,\n",
       "         0.4636, 0.3458, 0.4272],\n",
       "        [0.3637, 0.4003, 0.4286, 0.3991, 0.3547, 0.2617, 0.3887, 0.5547, 0.3455,\n",
       "         0.2916, 0.3852, 0.3817, 0.4292, 0.4235, 0.3312, 0.3661, 0.3864, 0.4421,\n",
       "         0.4201, 0.3866, 0.3207, 0.3583, 0.3317, 0.4063, 0.4398, 0.3424, 0.4172,\n",
       "         0.3593, 0.3797, 0.4123],\n",
       "        [0.4149, 0.3703, 0.3641, 0.4189, 0.3845, 0.2926, 0.4061, 0.4224, 0.6278,\n",
       "         0.3284, 0.4078, 0.4357, 0.3299, 0.4460, 0.3678, 0.4096, 0.4157, 0.4325,\n",
       "         0.4897, 0.4648, 0.5355, 0.4389, 0.4113, 0.4177, 0.4221, 0.6029, 0.3966,\n",
       "         0.6059, 0.3815, 0.5115],\n",
       "        [0.3644, 0.4079, 0.3407, 0.3572, 0.3687, 0.5009, 0.3090, 0.3698, 0.3116,\n",
       "         0.6743, 0.4047, 0.3294, 0.3074, 0.3616, 0.3218, 0.3524, 0.3786, 0.3668,\n",
       "         0.3517, 0.3439, 0.3367, 0.3797, 0.3130, 0.3949, 0.3430, 0.3251, 0.3098,\n",
       "         0.3595, 0.3358, 0.2985],\n",
       "        [0.4980, 0.4443, 0.4433, 0.4678, 0.4473, 0.3320, 0.3974, 0.4945, 0.4170,\n",
       "         0.3781, 0.6187, 0.4693, 0.3643, 0.5283, 0.5264, 0.4056, 0.5363, 0.4584,\n",
       "         0.4498, 0.4559, 0.4298, 0.5175, 0.4867, 0.4962, 0.4885, 0.4137, 0.4628,\n",
       "         0.4511, 0.4222, 0.4853],\n",
       "        [0.4848, 0.4263, 0.4535, 0.5869, 0.4065, 0.2808, 0.4303, 0.4257, 0.4592,\n",
       "         0.3002, 0.4614, 0.7138, 0.3217, 0.5895, 0.3721, 0.4406, 0.4865, 0.4937,\n",
       "         0.5819, 0.4950, 0.4338, 0.4218, 0.5380, 0.5089, 0.3909, 0.4472, 0.4901,\n",
       "         0.4911, 0.3778, 0.4937],\n",
       "        [0.4854, 0.4406, 0.4486, 0.3983, 0.4847, 0.3222, 0.4144, 0.4567, 0.3626,\n",
       "         0.3397, 0.4294, 0.4253, 0.5309, 0.4581, 0.5298, 0.3778, 0.4025, 0.4449,\n",
       "         0.4198, 0.4806, 0.3385, 0.4030, 0.3744, 0.4523, 0.4259, 0.3646, 0.4954,\n",
       "         0.4302, 0.3872, 0.4576],\n",
       "        [0.5272, 0.4256, 0.4729, 0.6743, 0.4021, 0.2804, 0.3844, 0.4341, 0.4071,\n",
       "         0.3312, 0.4562, 0.6084, 0.3476, 0.5925, 0.4349, 0.4716, 0.5168, 0.4834,\n",
       "         0.5335, 0.4798, 0.4382, 0.4152, 0.5267, 0.5100, 0.4613, 0.3896, 0.4970,\n",
       "         0.4592, 0.4093, 0.5105],\n",
       "        [0.4164, 0.3735, 0.3457, 0.3491, 0.4246, 0.3537, 0.4129, 0.3756, 0.3027,\n",
       "         0.3075, 0.4214, 0.3481, 0.3672, 0.3823, 0.5587, 0.2990, 0.3311, 0.3439,\n",
       "         0.2976, 0.3215, 0.2893, 0.3928, 0.3146, 0.3901, 0.4035, 0.2931, 0.3660,\n",
       "         0.3590, 0.2964, 0.3773],\n",
       "        [0.4390, 0.3900, 0.3582, 0.4463, 0.2812, 0.2633, 0.2978, 0.3272, 0.3146,\n",
       "         0.2760, 0.3828, 0.4749, 0.2714, 0.4706, 0.3215, 0.6352, 0.4656, 0.3669,\n",
       "         0.4162, 0.3619, 0.5000, 0.3239, 0.4777, 0.4481, 0.3085, 0.3383, 0.3767,\n",
       "         0.4170, 0.3548, 0.3520],\n",
       "        [0.3714, 0.4299, 0.3389, 0.4309, 0.3134, 0.2454, 0.3092, 0.3159, 0.3113,\n",
       "         0.2628, 0.3861, 0.4941, 0.2807, 0.4141, 0.3060, 0.5278, 0.5428, 0.3986,\n",
       "         0.4341, 0.3992, 0.4574, 0.3199, 0.4777, 0.4386, 0.3183, 0.3430, 0.4638,\n",
       "         0.3981, 0.3255, 0.3719],\n",
       "        [0.4454, 0.4407, 0.4324, 0.5026, 0.4091, 0.2702, 0.4390, 0.4302, 0.4699,\n",
       "         0.3053, 0.4244, 0.5661, 0.3502, 0.5283, 0.3934, 0.3879, 0.4105, 0.6025,\n",
       "         0.5501, 0.5779, 0.3806, 0.4220, 0.4502, 0.4349, 0.4221, 0.4692, 0.5524,\n",
       "         0.4610, 0.3897, 0.5060],\n",
       "        [0.4647, 0.4295, 0.4594, 0.4663, 0.3271, 0.2807, 0.3634, 0.3993, 0.4188,\n",
       "         0.3089, 0.3736, 0.5350, 0.3226, 0.4914, 0.3487, 0.4185, 0.3902, 0.4540,\n",
       "         0.7032, 0.4962, 0.4057, 0.3832, 0.4258, 0.3754, 0.3549, 0.4504, 0.4186,\n",
       "         0.4649, 0.3246, 0.4961],\n",
       "        [0.3979, 0.4436, 0.4586, 0.4995, 0.4371, 0.2535, 0.4339, 0.4149, 0.4230,\n",
       "         0.2959, 0.4270, 0.5912, 0.3422, 0.5951, 0.3581, 0.3955, 0.4193, 0.5414,\n",
       "         0.5299, 0.5852, 0.3867, 0.4672, 0.4144, 0.4366, 0.4081, 0.4207, 0.5435,\n",
       "         0.3682, 0.4057, 0.4622],\n",
       "        [0.4548, 0.4683, 0.3878, 0.3911, 0.3887, 0.2966, 0.4318, 0.4028, 0.4111,\n",
       "         0.3546, 0.4773, 0.4438, 0.3242, 0.4251, 0.3759, 0.5122, 0.4416, 0.4067,\n",
       "         0.4307, 0.4077, 0.6131, 0.4062, 0.4427, 0.4301, 0.3859, 0.4440, 0.4059,\n",
       "         0.4801, 0.4259, 0.4020],\n",
       "        [0.3558, 0.3412, 0.3176, 0.3218, 0.4107, 0.2685, 0.3480, 0.3837, 0.3602,\n",
       "         0.3092, 0.5091, 0.3590, 0.2582, 0.4237, 0.3336, 0.3888, 0.3441, 0.3118,\n",
       "         0.3243, 0.3487, 0.3466, 0.6986, 0.3341, 0.3836, 0.3896, 0.3437, 0.3191,\n",
       "         0.3649, 0.4907, 0.3767],\n",
       "        [0.4582, 0.4359, 0.3425, 0.4174, 0.3731, 0.3405, 0.3602, 0.3852, 0.4227,\n",
       "         0.3185, 0.4626, 0.4622, 0.2870, 0.4627, 0.4064, 0.4677, 0.4417, 0.3885,\n",
       "         0.4323, 0.3851, 0.4831, 0.4679, 0.5069, 0.4590, 0.4206, 0.4105, 0.3682,\n",
       "         0.5016, 0.4610, 0.4336],\n",
       "        [0.4598, 0.5154, 0.3805, 0.4169, 0.6067, 0.3194, 0.4603, 0.4142, 0.3591,\n",
       "         0.3415, 0.4912, 0.4558, 0.3490, 0.4321, 0.4242, 0.4440, 0.4561, 0.4435,\n",
       "         0.3996, 0.4229, 0.3917, 0.4348, 0.4106, 0.6493, 0.3831, 0.3931, 0.4446,\n",
       "         0.4463, 0.3719, 0.3687],\n",
       "        [0.4007, 0.3747, 0.3544, 0.4278, 0.4019, 0.2924, 0.3541, 0.4451, 0.3690,\n",
       "         0.3314, 0.4389, 0.3896, 0.3216, 0.4235, 0.4405, 0.3815, 0.3883, 0.4225,\n",
       "         0.3588, 0.3494, 0.3634, 0.3846, 0.3957, 0.4272, 0.4800, 0.3366, 0.3534,\n",
       "         0.3903, 0.4432, 0.3731],\n",
       "        [0.4224, 0.4543, 0.3581, 0.3605, 0.4454, 0.2936, 0.4200, 0.4287, 0.5692,\n",
       "         0.3208, 0.4266, 0.4180, 0.3673, 0.4115, 0.4240, 0.3818, 0.3622, 0.4408,\n",
       "         0.4525, 0.4702, 0.4205, 0.3969, 0.3654, 0.4251, 0.3829, 0.5554, 0.4256,\n",
       "         0.6309, 0.3349, 0.4667],\n",
       "        [0.4520, 0.4641, 0.3979, 0.4743, 0.4735, 0.2820, 0.4157, 0.4238, 0.3789,\n",
       "         0.3197, 0.4718, 0.5154, 0.3472, 0.5026, 0.4139, 0.4850, 0.4982, 0.4902,\n",
       "         0.4765, 0.4727, 0.4916, 0.4280, 0.4592, 0.5007, 0.4088, 0.3778, 0.5442,\n",
       "         0.4501, 0.3924, 0.4595],\n",
       "        [0.3805, 0.4170, 0.3744, 0.3835, 0.3250, 0.2603, 0.3844, 0.3895, 0.5557,\n",
       "         0.2983, 0.3455, 0.4163, 0.2976, 0.3975, 0.3406, 0.3592, 0.3736, 0.3716,\n",
       "         0.4518, 0.3592, 0.4711, 0.3756, 0.4065, 0.3675, 0.3550, 0.4844, 0.3562,\n",
       "         0.5167, 0.3332, 0.4529],\n",
       "        [0.4463, 0.4210, 0.3839, 0.4059, 0.4723, 0.3392, 0.3880, 0.4485, 0.4493,\n",
       "         0.3357, 0.4925, 0.4197, 0.3557, 0.5016, 0.4782, 0.4301, 0.4612, 0.4849,\n",
       "         0.4203, 0.5038, 0.3827, 0.4795, 0.4553, 0.4759, 0.4884, 0.4481, 0.4500,\n",
       "         0.4754, 0.5588, 0.4319],\n",
       "        [0.4913, 0.4795, 0.4664, 0.4947, 0.4660, 0.3169, 0.4453, 0.5530, 0.4683,\n",
       "         0.3405, 0.4748, 0.5043, 0.4256, 0.5575, 0.4854, 0.4379, 0.4680, 0.5023,\n",
       "         0.5397, 0.5647, 0.3939, 0.4529, 0.4328, 0.4578, 0.5176, 0.4489, 0.5048,\n",
       "         0.5115, 0.4134, 0.6066]], grad_fn=<MmBackward0>)"
      ]
     },
     "execution_count": 32,
     "metadata": {},
     "output_type": "execute_result"
    }
   ],
   "source": [
    "dotp_mat"
   ]
  },
  {
   "cell_type": "code",
   "execution_count": null,
   "id": "3eb6edb8-e519-4bcf-bfa9-83635b39faea",
   "metadata": {},
   "outputs": [],
   "source": []
  },
  {
   "cell_type": "code",
   "execution_count": null,
   "id": "f27b66e8-d0a4-4bdc-adec-68c1b37c58d5",
   "metadata": {},
   "outputs": [],
   "source": []
  },
  {
   "cell_type": "code",
   "execution_count": null,
   "id": "8ef833db-4665-49e5-8d1a-ced73f3825bf",
   "metadata": {},
   "outputs": [],
   "source": []
  },
  {
   "cell_type": "code",
   "execution_count": null,
   "id": "710182ac-e70d-4850-98f8-99fc561fb679",
   "metadata": {},
   "outputs": [],
   "source": []
  },
  {
   "cell_type": "code",
   "execution_count": null,
   "id": "63dad326-4f34-4583-89fa-e13ea10840ab",
   "metadata": {},
   "outputs": [],
   "source": []
  },
  {
   "cell_type": "code",
   "execution_count": null,
   "id": "d3580e16-adb0-410c-b7cd-1a4313514587",
   "metadata": {},
   "outputs": [],
   "source": []
  },
  {
   "cell_type": "code",
   "execution_count": null,
   "id": "9740d05f-20b8-42cb-acb9-5c607e6cfcfc",
   "metadata": {},
   "outputs": [],
   "source": []
  }
 ],
 "metadata": {
  "kernelspec": {
   "display_name": "Python 3 (ipykernel)",
   "language": "python",
   "name": "python3"
  },
  "language_info": {
   "codemirror_mode": {
    "name": "ipython",
    "version": 3
   },
   "file_extension": ".py",
   "mimetype": "text/x-python",
   "name": "python",
   "nbconvert_exporter": "python",
   "pygments_lexer": "ipython3",
   "version": "3.10.14"
  }
 },
 "nbformat": 4,
 "nbformat_minor": 5
}
