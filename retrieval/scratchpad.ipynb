{
 "cells": [
  {
   "cell_type": "code",
   "execution_count": 1,
   "id": "45aaa0c7-0676-4b9f-8d48-c93763cc6de0",
   "metadata": {},
   "outputs": [],
   "source": [
    "import os"
   ]
  },
  {
   "cell_type": "code",
   "execution_count": null,
   "id": "aeb76edd-761b-4064-8b8f-5927d70a37b2",
   "metadata": {},
   "outputs": [],
   "source": []
  },
  {
   "cell_type": "code",
   "execution_count": 7,
   "id": "66d74300-8967-4a9d-ac3d-a9f502563d06",
   "metadata": {},
   "outputs": [],
   "source": [
    "runs_dir = '/proj/vondrick4/naveen/coir-runs'\n",
    "exp_name = '2024-10-12-18-11-59-191333 + clip_inbatch_2en_ST_F_img_proj_low_lr_200eps'\n",
    "exp_path = os.path.join(runs_dir, exp_name)"
   ]
  },
  {
   "cell_type": "code",
   "execution_count": 8,
   "id": "69d9c528-4f67-411d-881b-09bbd1e5f262",
   "metadata": {},
   "outputs": [
    {
     "data": {
      "text/plain": [
       "'/proj/vondrick4/naveen/coir-runs/2024-10-12-18-11-59-191333 + clip_inbatch_2en_ST_F_img_proj_low_lr_200eps'"
      ]
     },
     "execution_count": 8,
     "metadata": {},
     "output_type": "execute_result"
    }
   ],
   "source": [
    "exp_path"
   ]
  },
  {
   "cell_type": "code",
   "execution_count": null,
   "id": "73cd0231-4f91-47d0-b680-62bb463929f0",
   "metadata": {},
   "outputs": [],
   "source": []
  },
  {
   "cell_type": "code",
   "execution_count": 14,
   "id": "e16cdb82-70f0-4e75-803f-f290e4be689c",
   "metadata": {
    "scrolled": true
   },
   "outputs": [
    {
     "data": {
      "text/plain": [
       "['checkpoint-epoch=000.ckpt',\n",
       " 'checkpoint-epoch=001.ckpt',\n",
       " 'checkpoint-epoch=002.ckpt',\n",
       " 'checkpoint-epoch=003.ckpt',\n",
       " 'checkpoint-epoch=004.ckpt',\n",
       " 'checkpoint-epoch=005.ckpt',\n",
       " 'checkpoint-epoch=006.ckpt',\n",
       " 'checkpoint-epoch=007.ckpt',\n",
       " 'checkpoint-epoch=008.ckpt',\n",
       " 'checkpoint-epoch=009.ckpt',\n",
       " 'checkpoint-epoch=010.ckpt',\n",
       " 'checkpoint-epoch=011.ckpt',\n",
       " 'checkpoint-epoch=012.ckpt',\n",
       " 'checkpoint-epoch=013.ckpt',\n",
       " 'checkpoint-epoch=014.ckpt',\n",
       " 'checkpoint-epoch=015.ckpt',\n",
       " 'checkpoint-epoch=016.ckpt',\n",
       " 'checkpoint-epoch=017.ckpt',\n",
       " 'checkpoint-epoch=018.ckpt',\n",
       " 'checkpoint-epoch=019.ckpt',\n",
       " 'checkpoint-epoch=020.ckpt',\n",
       " 'checkpoint-epoch=021.ckpt',\n",
       " 'checkpoint-epoch=022.ckpt',\n",
       " 'checkpoint-epoch=023.ckpt',\n",
       " 'checkpoint-epoch=024.ckpt',\n",
       " 'checkpoint-epoch=025.ckpt',\n",
       " 'checkpoint-epoch=026.ckpt',\n",
       " 'checkpoint-epoch=027.ckpt',\n",
       " 'checkpoint-epoch=028.ckpt',\n",
       " 'checkpoint-epoch=029.ckpt',\n",
       " 'checkpoint-epoch=030.ckpt',\n",
       " 'checkpoint-epoch=031.ckpt',\n",
       " 'checkpoint-epoch=032.ckpt',\n",
       " 'checkpoint-epoch=033.ckpt',\n",
       " 'checkpoint-epoch=034.ckpt',\n",
       " 'checkpoint-epoch=035.ckpt',\n",
       " 'checkpoint-epoch=036.ckpt',\n",
       " 'checkpoint-epoch=037.ckpt',\n",
       " 'checkpoint-epoch=038.ckpt',\n",
       " 'checkpoint-epoch=039.ckpt',\n",
       " 'checkpoint-epoch=040.ckpt',\n",
       " 'checkpoint-epoch=041.ckpt',\n",
       " 'checkpoint-epoch=042.ckpt',\n",
       " 'checkpoint-epoch=043.ckpt',\n",
       " 'checkpoint-epoch=044.ckpt',\n",
       " 'checkpoint-epoch=045.ckpt',\n",
       " 'checkpoint-epoch=046.ckpt',\n",
       " 'checkpoint-epoch=047.ckpt',\n",
       " 'checkpoint-epoch=048.ckpt',\n",
       " 'checkpoint-epoch=049.ckpt',\n",
       " 'checkpoint-epoch=050.ckpt',\n",
       " 'checkpoint-epoch=051.ckpt',\n",
       " 'checkpoint-epoch=052.ckpt',\n",
       " 'checkpoint-epoch=053.ckpt',\n",
       " 'checkpoint-epoch=054.ckpt',\n",
       " 'checkpoint-epoch=055.ckpt',\n",
       " 'checkpoint-epoch=056.ckpt',\n",
       " 'checkpoint-epoch=057.ckpt',\n",
       " 'checkpoint-epoch=058.ckpt',\n",
       " 'checkpoint-epoch=059.ckpt',\n",
       " 'checkpoint-epoch=060.ckpt',\n",
       " 'checkpoint-epoch=061.ckpt',\n",
       " 'checkpoint-epoch=062.ckpt',\n",
       " 'checkpoint-epoch=063.ckpt',\n",
       " 'checkpoint-epoch=064.ckpt',\n",
       " 'checkpoint-epoch=065.ckpt',\n",
       " 'checkpoint-epoch=066.ckpt',\n",
       " 'checkpoint-epoch=067.ckpt',\n",
       " 'checkpoint-epoch=068.ckpt',\n",
       " 'checkpoint-epoch=069.ckpt',\n",
       " 'checkpoint-epoch=070.ckpt',\n",
       " 'checkpoint-epoch=071.ckpt',\n",
       " 'checkpoint-epoch=072.ckpt',\n",
       " 'checkpoint-epoch=073.ckpt',\n",
       " 'checkpoint-epoch=074.ckpt',\n",
       " 'checkpoint-epoch=075.ckpt',\n",
       " 'checkpoint-epoch=076.ckpt',\n",
       " 'checkpoint-epoch=077.ckpt',\n",
       " 'checkpoint-epoch=078.ckpt',\n",
       " 'checkpoint-epoch=079.ckpt',\n",
       " 'checkpoint-epoch=080.ckpt',\n",
       " 'checkpoint-epoch=081.ckpt',\n",
       " 'checkpoint-epoch=082.ckpt',\n",
       " 'checkpoint-epoch=083.ckpt',\n",
       " 'checkpoint-epoch=084.ckpt',\n",
       " 'checkpoint-epoch=085.ckpt',\n",
       " 'checkpoint-epoch=086.ckpt',\n",
       " 'checkpoint-epoch=087.ckpt',\n",
       " 'checkpoint-epoch=088.ckpt',\n",
       " 'checkpoint-epoch=089.ckpt',\n",
       " 'checkpoint-epoch=090.ckpt',\n",
       " 'checkpoint-epoch=091.ckpt',\n",
       " 'checkpoint-epoch=092.ckpt',\n",
       " 'checkpoint-epoch=093.ckpt',\n",
       " 'checkpoint-epoch=094.ckpt',\n",
       " 'checkpoint-epoch=095.ckpt',\n",
       " 'checkpoint-epoch=096.ckpt',\n",
       " 'checkpoint-epoch=097.ckpt',\n",
       " 'checkpoint-epoch=098.ckpt',\n",
       " 'checkpoint-epoch=099.ckpt']"
      ]
     },
     "execution_count": 14,
     "metadata": {},
     "output_type": "execute_result"
    }
   ],
   "source": [
    "sorted(list(filter(lambda x: x[:10] == 'checkpoint', os.listdir(exp_path))))"
   ]
  },
  {
   "cell_type": "code",
   "execution_count": null,
   "id": "a90bd4a6-90f0-417d-b5cd-389c1f859275",
   "metadata": {},
   "outputs": [],
   "source": []
  },
  {
   "cell_type": "code",
   "execution_count": 17,
   "id": "3c5ca7ea-27b2-4977-8001-3fa3bf594247",
   "metadata": {},
   "outputs": [],
   "source": [
    "import pandas as pd"
   ]
  },
  {
   "cell_type": "code",
   "execution_count": 19,
   "id": "62e1010b-07bc-4c3a-b242-ebb06591230f",
   "metadata": {},
   "outputs": [],
   "source": [
    "df = pd.DataFrame(columns=['Name', 'Age', 'City'])"
   ]
  },
  {
   "cell_type": "code",
   "execution_count": null,
   "id": "515dfac3-83fc-482a-8cff-a7dab327662f",
   "metadata": {},
   "outputs": [],
   "source": []
  },
  {
   "cell_type": "code",
   "execution_count": 27,
   "id": "ee7cf900-b49c-4b01-9970-46e0f7cc434f",
   "metadata": {},
   "outputs": [],
   "source": [
    "new_row = pd.DataFrame([{'Name': 'Alice', 'Age': 25, 'City': 'New York'}])"
   ]
  },
  {
   "cell_type": "code",
   "execution_count": 28,
   "id": "293cb4a3-4adf-4eff-833b-25ec309cc9d3",
   "metadata": {},
   "outputs": [],
   "source": [
    "df = pd.concat([df, new_row], ignore_index=True)"
   ]
  },
  {
   "cell_type": "code",
   "execution_count": 29,
   "id": "659337a0-ffbf-4943-883b-a0be0470a953",
   "metadata": {},
   "outputs": [
    {
     "data": {
      "text/html": [
       "<div>\n",
       "<style scoped>\n",
       "    .dataframe tbody tr th:only-of-type {\n",
       "        vertical-align: middle;\n",
       "    }\n",
       "\n",
       "    .dataframe tbody tr th {\n",
       "        vertical-align: top;\n",
       "    }\n",
       "\n",
       "    .dataframe thead th {\n",
       "        text-align: right;\n",
       "    }\n",
       "</style>\n",
       "<table border=\"1\" class=\"dataframe\">\n",
       "  <thead>\n",
       "    <tr style=\"text-align: right;\">\n",
       "      <th></th>\n",
       "      <th>Name</th>\n",
       "      <th>Age</th>\n",
       "      <th>City</th>\n",
       "    </tr>\n",
       "  </thead>\n",
       "  <tbody>\n",
       "    <tr>\n",
       "      <th>0</th>\n",
       "      <td>Alice</td>\n",
       "      <td>25</td>\n",
       "      <td>New York</td>\n",
       "    </tr>\n",
       "    <tr>\n",
       "      <th>1</th>\n",
       "      <td>Alice</td>\n",
       "      <td>25</td>\n",
       "      <td>New York</td>\n",
       "    </tr>\n",
       "  </tbody>\n",
       "</table>\n",
       "</div>"
      ],
      "text/plain": [
       "    Name Age      City\n",
       "0  Alice  25  New York\n",
       "1  Alice  25  New York"
      ]
     },
     "execution_count": 29,
     "metadata": {},
     "output_type": "execute_result"
    }
   ],
   "source": [
    "df"
   ]
  },
  {
   "cell_type": "code",
   "execution_count": null,
   "id": "4d5ed342-9bad-4aa9-b15a-09eacf4165c7",
   "metadata": {},
   "outputs": [],
   "source": []
  },
  {
   "cell_type": "code",
   "execution_count": null,
   "id": "93cfba91-d7c0-4a0f-8e1d-bd20ee2e17a5",
   "metadata": {},
   "outputs": [],
   "source": []
  },
  {
   "cell_type": "code",
   "execution_count": 31,
   "id": "13f335ae-090d-4bc1-b6a3-474599e02cc8",
   "metadata": {},
   "outputs": [],
   "source": [
    "t = 'checkpoint-epoch=000.ckpt'"
   ]
  },
  {
   "cell_type": "code",
   "execution_count": null,
   "id": "e3856b77-cd32-4808-9a7e-5e898f73c553",
   "metadata": {},
   "outputs": [],
   "source": []
  },
  {
   "cell_type": "code",
   "execution_count": 36,
   "id": "59223655-ef24-4d51-a075-ec9736d1195a",
   "metadata": {},
   "outputs": [
    {
     "data": {
      "text/plain": [
       "0"
      ]
     },
     "execution_count": 36,
     "metadata": {},
     "output_type": "execute_result"
    }
   ],
   "source": [
    "int(t[17:20])"
   ]
  },
  {
   "cell_type": "code",
   "execution_count": 32,
   "id": "6ae0bb03-923d-450b-a3e9-deaf17fef47e",
   "metadata": {},
   "outputs": [
    {
     "data": {
      "text/plain": [
       "17"
      ]
     },
     "execution_count": 32,
     "metadata": {},
     "output_type": "execute_result"
    }
   ],
   "source": [
    "len('checkpoint-epoch=')"
   ]
  },
  {
   "cell_type": "code",
   "execution_count": null,
   "id": "43d8b066-5cec-493b-bb9b-e1b39438ea4e",
   "metadata": {},
   "outputs": [],
   "source": []
  },
  {
   "cell_type": "code",
   "execution_count": null,
   "id": "e315f889-f8b5-4d55-ac78-fda707a0956a",
   "metadata": {},
   "outputs": [],
   "source": []
  },
  {
   "cell_type": "code",
   "execution_count": null,
   "id": "a9829e5d-f291-4d31-a6ee-a3d45af2fe9c",
   "metadata": {},
   "outputs": [],
   "source": []
  },
  {
   "cell_type": "code",
   "execution_count": null,
   "id": "7ca838a0-da72-4164-9aa5-642d3979a67e",
   "metadata": {},
   "outputs": [],
   "source": []
  },
  {
   "cell_type": "code",
   "execution_count": null,
   "id": "33fb71bc-c21c-4e33-80e5-824e1ffcba3a",
   "metadata": {},
   "outputs": [],
   "source": []
  },
  {
   "cell_type": "code",
   "execution_count": null,
   "id": "63ad245f-219a-4d1f-9e99-3dfa3d3c5266",
   "metadata": {},
   "outputs": [],
   "source": []
  },
  {
   "cell_type": "code",
   "execution_count": null,
   "id": "b662851b-94fc-4994-9876-4f8947936a20",
   "metadata": {},
   "outputs": [],
   "source": []
  }
 ],
 "metadata": {
  "kernelspec": {
   "display_name": "Python 3 (ipykernel)",
   "language": "python",
   "name": "python3"
  },
  "language_info": {
   "codemirror_mode": {
    "name": "ipython",
    "version": 3
   },
   "file_extension": ".py",
   "mimetype": "text/x-python",
   "name": "python",
   "nbconvert_exporter": "python",
   "pygments_lexer": "ipython3",
   "version": "3.10.14"
  }
 },
 "nbformat": 4,
 "nbformat_minor": 5
}
