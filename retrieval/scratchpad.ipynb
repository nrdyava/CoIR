{
 "cells": [
  {
   "cell_type": "code",
   "execution_count": 1,
   "id": "45aaa0c7-0676-4b9f-8d48-c93763cc6de0",
   "metadata": {},
   "outputs": [],
   "source": [
    "import os\n",
    "import numpy as np"
   ]
  },
  {
   "cell_type": "code",
   "execution_count": null,
   "id": "aeb76edd-761b-4064-8b8f-5927d70a37b2",
   "metadata": {},
   "outputs": [],
   "source": []
  },
  {
   "cell_type": "code",
   "execution_count": null,
   "id": "0e4f82f9-7165-4dd4-a271-7e007d85288b",
   "metadata": {},
   "outputs": [],
   "source": []
  },
  {
   "cell_type": "code",
   "execution_count": 2,
   "id": "e5b10f39-cae4-4884-8a38-ccb9acb08958",
   "metadata": {},
   "outputs": [],
   "source": [
    "temp = [355099, 528417, 534704]"
   ]
  },
  {
   "cell_type": "code",
   "execution_count": null,
   "id": "9ba7a0a1-e8b3-46f8-8fdc-710612642fef",
   "metadata": {},
   "outputs": [],
   "source": []
  },
  {
   "cell_type": "code",
   "execution_count": 4,
   "id": "c9559cb0-dba1-483d-a8ee-cc4a798d7d56",
   "metadata": {},
   "outputs": [
    {
     "data": {
      "text/plain": [
       "array([355099, 528417, 534704])"
      ]
     },
     "execution_count": 4,
     "metadata": {},
     "output_type": "execute_result"
    }
   ],
   "source": [
    "np.array(temp, dtype=int)"
   ]
  },
  {
   "cell_type": "code",
   "execution_count": null,
   "id": "9c8235b4-7ed5-4f4e-be94-2b2f1767ac86",
   "metadata": {},
   "outputs": [],
   "source": []
  },
  {
   "cell_type": "code",
   "execution_count": null,
   "id": "844a72a4-8dda-494a-ab1e-3f545e72665d",
   "metadata": {},
   "outputs": [],
   "source": [
    "temp = [355099, 528417, 534704]"
   ]
  },
  {
   "cell_type": "code",
   "execution_count": null,
   "id": "54986a8d-cb31-475e-8200-3ff8e5d10d5f",
   "metadata": {},
   "outputs": [],
   "source": []
  },
  {
   "cell_type": "code",
   "execution_count": 7,
   "id": "0d0c7325-9087-4826-a8fd-9484307b104d",
   "metadata": {},
   "outputs": [
    {
     "data": {
      "text/plain": [
       "array([False, False, False, False, False,  True,  True,  True])"
      ]
     },
     "execution_count": 7,
     "metadata": {},
     "output_type": "execute_result"
    }
   ],
   "source": [
    "temp2 = np.isin([295260, 154188, 459306, 441068, 469312, 355099, 528417, 534704], [355099, 528417, 534704])\n",
    "temp2"
   ]
  },
  {
   "cell_type": "code",
   "execution_count": null,
   "id": "f9425398-8fc3-4504-9a9c-33686a16df69",
   "metadata": {},
   "outputs": [],
   "source": []
  },
  {
   "cell_type": "code",
   "execution_count": 10,
   "id": "a9aa4751-46fe-4c6f-976f-5cc1da1aa715",
   "metadata": {},
   "outputs": [
    {
     "data": {
      "text/plain": [
       "array([0.        , 0.        , 0.        , 0.        , 0.        ,\n",
       "       0.16666667, 0.28571429, 0.375     ])"
      ]
     },
     "execution_count": 10,
     "metadata": {},
     "output_type": "execute_result"
    }
   ],
   "source": [
    "np.cumsum(temp2, axis = 0)/np.arange(1, temp2.shape[0] + 1)"
   ]
  },
  {
   "cell_type": "code",
   "execution_count": null,
   "id": "20159865-12d2-41a4-bae3-acf06a39d4c6",
   "metadata": {},
   "outputs": [],
   "source": []
  },
  {
   "cell_type": "code",
   "execution_count": null,
   "id": "543b0d2a-3676-4554-8c0a-b0f1e71381c2",
   "metadata": {},
   "outputs": [],
   "source": []
  },
  {
   "cell_type": "code",
   "execution_count": null,
   "id": "410ae175-17f5-4abe-82f5-239ebf1deeb6",
   "metadata": {},
   "outputs": [],
   "source": []
  },
  {
   "cell_type": "code",
   "execution_count": null,
   "id": "5f5d194e-ac1b-4182-bf22-b017ab1be2ca",
   "metadata": {},
   "outputs": [],
   "source": []
  },
  {
   "cell_type": "code",
   "execution_count": null,
   "id": "76079288-5ad6-436d-b112-c551aeed2ed0",
   "metadata": {},
   "outputs": [],
   "source": []
  },
  {
   "cell_type": "code",
   "execution_count": null,
   "id": "43d8b066-5cec-493b-bb9b-e1b39438ea4e",
   "metadata": {},
   "outputs": [],
   "source": []
  },
  {
   "cell_type": "code",
   "execution_count": null,
   "id": "e315f889-f8b5-4d55-ac78-fda707a0956a",
   "metadata": {},
   "outputs": [],
   "source": []
  },
  {
   "cell_type": "code",
   "execution_count": null,
   "id": "a9829e5d-f291-4d31-a6ee-a3d45af2fe9c",
   "metadata": {},
   "outputs": [],
   "source": []
  },
  {
   "cell_type": "code",
   "execution_count": null,
   "id": "7ca838a0-da72-4164-9aa5-642d3979a67e",
   "metadata": {},
   "outputs": [],
   "source": []
  },
  {
   "cell_type": "code",
   "execution_count": null,
   "id": "33fb71bc-c21c-4e33-80e5-824e1ffcba3a",
   "metadata": {},
   "outputs": [],
   "source": []
  },
  {
   "cell_type": "code",
   "execution_count": null,
   "id": "63ad245f-219a-4d1f-9e99-3dfa3d3c5266",
   "metadata": {},
   "outputs": [],
   "source": []
  },
  {
   "cell_type": "code",
   "execution_count": null,
   "id": "b662851b-94fc-4994-9876-4f8947936a20",
   "metadata": {},
   "outputs": [],
   "source": []
  }
 ],
 "metadata": {
  "kernelspec": {
   "display_name": "Python 3 (ipykernel)",
   "language": "python",
   "name": "python3"
  },
  "language_info": {
   "codemirror_mode": {
    "name": "ipython",
    "version": 3
   },
   "file_extension": ".py",
   "mimetype": "text/x-python",
   "name": "python",
   "nbconvert_exporter": "python",
   "pygments_lexer": "ipython3",
   "version": "3.10.14"
  }
 },
 "nbformat": 4,
 "nbformat_minor": 5
}
